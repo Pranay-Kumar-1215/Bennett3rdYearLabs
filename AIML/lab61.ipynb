{
 "cells": [
  {
   "cell_type": "code",
   "execution_count": 24,
   "metadata": {},
   "outputs": [],
   "source": [
    "import pandas as pd\n",
    "df = pd.read_csv('pulsar_data_train.csv')"
   ]
  },
  {
   "cell_type": "code",
   "execution_count": 25,
   "metadata": {},
   "outputs": [
    {
     "data": {
      "text/html": [
       "<div>\n",
       "<style scoped>\n",
       "    .dataframe tbody tr th:only-of-type {\n",
       "        vertical-align: middle;\n",
       "    }\n",
       "\n",
       "    .dataframe tbody tr th {\n",
       "        vertical-align: top;\n",
       "    }\n",
       "\n",
       "    .dataframe thead th {\n",
       "        text-align: right;\n",
       "    }\n",
       "</style>\n",
       "<table border=\"1\" class=\"dataframe\">\n",
       "  <thead>\n",
       "    <tr style=\"text-align: right;\">\n",
       "      <th></th>\n",
       "      <th>Mean of the integrated profile</th>\n",
       "      <th>Standard deviation of the integrated profile</th>\n",
       "      <th>Excess kurtosis of the integrated profile</th>\n",
       "      <th>Skewness of the integrated profile</th>\n",
       "      <th>Mean of the DM-SNR curve</th>\n",
       "      <th>Standard deviation of the DM-SNR curve</th>\n",
       "      <th>Excess kurtosis of the DM-SNR curve</th>\n",
       "      <th>Skewness of the DM-SNR curve</th>\n",
       "      <th>target_class</th>\n",
       "    </tr>\n",
       "  </thead>\n",
       "  <tbody>\n",
       "    <tr>\n",
       "      <th>0</th>\n",
       "      <td>121.156250</td>\n",
       "      <td>48.372971</td>\n",
       "      <td>0.375485</td>\n",
       "      <td>-0.013165</td>\n",
       "      <td>3.168896</td>\n",
       "      <td>18.399367</td>\n",
       "      <td>7.449874</td>\n",
       "      <td>65.159298</td>\n",
       "      <td>0.0</td>\n",
       "    </tr>\n",
       "    <tr>\n",
       "      <th>1</th>\n",
       "      <td>76.968750</td>\n",
       "      <td>36.175557</td>\n",
       "      <td>0.712898</td>\n",
       "      <td>3.388719</td>\n",
       "      <td>2.399666</td>\n",
       "      <td>17.570997</td>\n",
       "      <td>9.414652</td>\n",
       "      <td>102.722975</td>\n",
       "      <td>0.0</td>\n",
       "    </tr>\n",
       "    <tr>\n",
       "      <th>2</th>\n",
       "      <td>130.585938</td>\n",
       "      <td>53.229534</td>\n",
       "      <td>0.133408</td>\n",
       "      <td>-0.297242</td>\n",
       "      <td>2.743311</td>\n",
       "      <td>22.362553</td>\n",
       "      <td>8.508364</td>\n",
       "      <td>74.031324</td>\n",
       "      <td>0.0</td>\n",
       "    </tr>\n",
       "    <tr>\n",
       "      <th>3</th>\n",
       "      <td>156.398438</td>\n",
       "      <td>48.865942</td>\n",
       "      <td>-0.215989</td>\n",
       "      <td>-0.171294</td>\n",
       "      <td>17.471572</td>\n",
       "      <td>NaN</td>\n",
       "      <td>2.958066</td>\n",
       "      <td>7.197842</td>\n",
       "      <td>0.0</td>\n",
       "    </tr>\n",
       "    <tr>\n",
       "      <th>4</th>\n",
       "      <td>84.804688</td>\n",
       "      <td>36.117659</td>\n",
       "      <td>0.825013</td>\n",
       "      <td>3.274125</td>\n",
       "      <td>2.790134</td>\n",
       "      <td>20.618009</td>\n",
       "      <td>8.405008</td>\n",
       "      <td>76.291128</td>\n",
       "      <td>0.0</td>\n",
       "    </tr>\n",
       "  </tbody>\n",
       "</table>\n",
       "</div>"
      ],
      "text/plain": [
       "    Mean of the integrated profile  \\\n",
       "0                       121.156250   \n",
       "1                        76.968750   \n",
       "2                       130.585938   \n",
       "3                       156.398438   \n",
       "4                        84.804688   \n",
       "\n",
       "    Standard deviation of the integrated profile  \\\n",
       "0                                      48.372971   \n",
       "1                                      36.175557   \n",
       "2                                      53.229534   \n",
       "3                                      48.865942   \n",
       "4                                      36.117659   \n",
       "\n",
       "    Excess kurtosis of the integrated profile  \\\n",
       "0                                    0.375485   \n",
       "1                                    0.712898   \n",
       "2                                    0.133408   \n",
       "3                                   -0.215989   \n",
       "4                                    0.825013   \n",
       "\n",
       "    Skewness of the integrated profile   Mean of the DM-SNR curve  \\\n",
       "0                            -0.013165                   3.168896   \n",
       "1                             3.388719                   2.399666   \n",
       "2                            -0.297242                   2.743311   \n",
       "3                            -0.171294                  17.471572   \n",
       "4                             3.274125                   2.790134   \n",
       "\n",
       "    Standard deviation of the DM-SNR curve  \\\n",
       "0                                18.399367   \n",
       "1                                17.570997   \n",
       "2                                22.362553   \n",
       "3                                      NaN   \n",
       "4                                20.618009   \n",
       "\n",
       "    Excess kurtosis of the DM-SNR curve   Skewness of the DM-SNR curve  \\\n",
       "0                              7.449874                      65.159298   \n",
       "1                              9.414652                     102.722975   \n",
       "2                              8.508364                      74.031324   \n",
       "3                              2.958066                       7.197842   \n",
       "4                              8.405008                      76.291128   \n",
       "\n",
       "   target_class  \n",
       "0           0.0  \n",
       "1           0.0  \n",
       "2           0.0  \n",
       "3           0.0  \n",
       "4           0.0  "
      ]
     },
     "execution_count": 25,
     "metadata": {},
     "output_type": "execute_result"
    }
   ],
   "source": [
    "df.head()"
   ]
  },
  {
   "cell_type": "code",
   "execution_count": 26,
   "metadata": {},
   "outputs": [
    {
     "data": {
      "text/html": [
       "<div>\n",
       "<style scoped>\n",
       "    .dataframe tbody tr th:only-of-type {\n",
       "        vertical-align: middle;\n",
       "    }\n",
       "\n",
       "    .dataframe tbody tr th {\n",
       "        vertical-align: top;\n",
       "    }\n",
       "\n",
       "    .dataframe thead th {\n",
       "        text-align: right;\n",
       "    }\n",
       "</style>\n",
       "<table border=\"1\" class=\"dataframe\">\n",
       "  <thead>\n",
       "    <tr style=\"text-align: right;\">\n",
       "      <th></th>\n",
       "      <th>Mean of the integrated profile</th>\n",
       "      <th>Standard deviation of the integrated profile</th>\n",
       "      <th>Excess kurtosis of the integrated profile</th>\n",
       "      <th>Skewness of the integrated profile</th>\n",
       "      <th>Mean of the DM-SNR curve</th>\n",
       "      <th>Standard deviation of the DM-SNR curve</th>\n",
       "      <th>Excess kurtosis of the DM-SNR curve</th>\n",
       "      <th>Skewness of the DM-SNR curve</th>\n",
       "      <th>target_class</th>\n",
       "    </tr>\n",
       "  </thead>\n",
       "  <tbody>\n",
       "    <tr>\n",
       "      <th>count</th>\n",
       "      <td>12528.000000</td>\n",
       "      <td>12528.000000</td>\n",
       "      <td>10793.000000</td>\n",
       "      <td>12528.000000</td>\n",
       "      <td>12528.000000</td>\n",
       "      <td>11350.000000</td>\n",
       "      <td>12528.000000</td>\n",
       "      <td>11903.000000</td>\n",
       "      <td>12528.000000</td>\n",
       "    </tr>\n",
       "    <tr>\n",
       "      <th>mean</th>\n",
       "      <td>111.041841</td>\n",
       "      <td>46.521437</td>\n",
       "      <td>0.478548</td>\n",
       "      <td>1.778431</td>\n",
       "      <td>12.674758</td>\n",
       "      <td>26.351318</td>\n",
       "      <td>8.333489</td>\n",
       "      <td>105.525779</td>\n",
       "      <td>0.092034</td>\n",
       "    </tr>\n",
       "    <tr>\n",
       "      <th>std</th>\n",
       "      <td>25.672828</td>\n",
       "      <td>6.801077</td>\n",
       "      <td>1.064708</td>\n",
       "      <td>6.208450</td>\n",
       "      <td>29.613230</td>\n",
       "      <td>19.610842</td>\n",
       "      <td>4.535783</td>\n",
       "      <td>107.399585</td>\n",
       "      <td>0.289085</td>\n",
       "    </tr>\n",
       "    <tr>\n",
       "      <th>min</th>\n",
       "      <td>5.812500</td>\n",
       "      <td>24.772042</td>\n",
       "      <td>-1.738021</td>\n",
       "      <td>-1.791886</td>\n",
       "      <td>0.213211</td>\n",
       "      <td>7.370432</td>\n",
       "      <td>-3.139270</td>\n",
       "      <td>-1.976976</td>\n",
       "      <td>0.000000</td>\n",
       "    </tr>\n",
       "    <tr>\n",
       "      <th>25%</th>\n",
       "      <td>100.871094</td>\n",
       "      <td>42.362222</td>\n",
       "      <td>0.024652</td>\n",
       "      <td>-0.188142</td>\n",
       "      <td>1.910535</td>\n",
       "      <td>14.404353</td>\n",
       "      <td>5.803063</td>\n",
       "      <td>35.199899</td>\n",
       "      <td>0.000000</td>\n",
       "    </tr>\n",
       "    <tr>\n",
       "      <th>50%</th>\n",
       "      <td>115.183594</td>\n",
       "      <td>46.931022</td>\n",
       "      <td>0.223678</td>\n",
       "      <td>0.203317</td>\n",
       "      <td>2.792642</td>\n",
       "      <td>18.412402</td>\n",
       "      <td>8.451097</td>\n",
       "      <td>83.126301</td>\n",
       "      <td>0.000000</td>\n",
       "    </tr>\n",
       "    <tr>\n",
       "      <th>75%</th>\n",
       "      <td>127.109375</td>\n",
       "      <td>50.979103</td>\n",
       "      <td>0.473125</td>\n",
       "      <td>0.932374</td>\n",
       "      <td>5.413253</td>\n",
       "      <td>28.337418</td>\n",
       "      <td>10.727927</td>\n",
       "      <td>139.997850</td>\n",
       "      <td>0.000000</td>\n",
       "    </tr>\n",
       "    <tr>\n",
       "      <th>max</th>\n",
       "      <td>189.734375</td>\n",
       "      <td>91.808628</td>\n",
       "      <td>8.069522</td>\n",
       "      <td>68.101622</td>\n",
       "      <td>222.421405</td>\n",
       "      <td>110.642211</td>\n",
       "      <td>34.539844</td>\n",
       "      <td>1191.000837</td>\n",
       "      <td>1.000000</td>\n",
       "    </tr>\n",
       "  </tbody>\n",
       "</table>\n",
       "</div>"
      ],
      "text/plain": [
       "        Mean of the integrated profile  \\\n",
       "count                     12528.000000   \n",
       "mean                        111.041841   \n",
       "std                          25.672828   \n",
       "min                           5.812500   \n",
       "25%                         100.871094   \n",
       "50%                         115.183594   \n",
       "75%                         127.109375   \n",
       "max                         189.734375   \n",
       "\n",
       "        Standard deviation of the integrated profile  \\\n",
       "count                                   12528.000000   \n",
       "mean                                       46.521437   \n",
       "std                                         6.801077   \n",
       "min                                        24.772042   \n",
       "25%                                        42.362222   \n",
       "50%                                        46.931022   \n",
       "75%                                        50.979103   \n",
       "max                                        91.808628   \n",
       "\n",
       "        Excess kurtosis of the integrated profile  \\\n",
       "count                                10793.000000   \n",
       "mean                                     0.478548   \n",
       "std                                      1.064708   \n",
       "min                                     -1.738021   \n",
       "25%                                      0.024652   \n",
       "50%                                      0.223678   \n",
       "75%                                      0.473125   \n",
       "max                                      8.069522   \n",
       "\n",
       "        Skewness of the integrated profile   Mean of the DM-SNR curve  \\\n",
       "count                         12528.000000               12528.000000   \n",
       "mean                              1.778431                  12.674758   \n",
       "std                               6.208450                  29.613230   \n",
       "min                              -1.791886                   0.213211   \n",
       "25%                              -0.188142                   1.910535   \n",
       "50%                               0.203317                   2.792642   \n",
       "75%                               0.932374                   5.413253   \n",
       "max                              68.101622                 222.421405   \n",
       "\n",
       "        Standard deviation of the DM-SNR curve  \\\n",
       "count                             11350.000000   \n",
       "mean                                 26.351318   \n",
       "std                                  19.610842   \n",
       "min                                   7.370432   \n",
       "25%                                  14.404353   \n",
       "50%                                  18.412402   \n",
       "75%                                  28.337418   \n",
       "max                                 110.642211   \n",
       "\n",
       "        Excess kurtosis of the DM-SNR curve   Skewness of the DM-SNR curve  \\\n",
       "count                          12528.000000                   11903.000000   \n",
       "mean                               8.333489                     105.525779   \n",
       "std                                4.535783                     107.399585   \n",
       "min                               -3.139270                      -1.976976   \n",
       "25%                                5.803063                      35.199899   \n",
       "50%                                8.451097                      83.126301   \n",
       "75%                               10.727927                     139.997850   \n",
       "max                               34.539844                    1191.000837   \n",
       "\n",
       "       target_class  \n",
       "count  12528.000000  \n",
       "mean       0.092034  \n",
       "std        0.289085  \n",
       "min        0.000000  \n",
       "25%        0.000000  \n",
       "50%        0.000000  \n",
       "75%        0.000000  \n",
       "max        1.000000  "
      ]
     },
     "execution_count": 26,
     "metadata": {},
     "output_type": "execute_result"
    }
   ],
   "source": [
    "df.describe()"
   ]
  },
  {
   "cell_type": "code",
   "execution_count": 27,
   "metadata": {},
   "outputs": [
    {
     "data": {
      "text/plain": [
       " Mean of the integrated profile                     0\n",
       " Standard deviation of the integrated profile       0\n",
       " Excess kurtosis of the integrated profile       1735\n",
       " Skewness of the integrated profile                 0\n",
       " Mean of the DM-SNR curve                           0\n",
       " Standard deviation of the DM-SNR curve          1178\n",
       " Excess kurtosis of the DM-SNR curve                0\n",
       " Skewness of the DM-SNR curve                     625\n",
       "target_class                                        0\n",
       "dtype: int64"
      ]
     },
     "execution_count": 27,
     "metadata": {},
     "output_type": "execute_result"
    }
   ],
   "source": [
    "df.isna().sum()"
   ]
  },
  {
   "cell_type": "code",
   "execution_count": 28,
   "metadata": {},
   "outputs": [],
   "source": [
    "d1 = df.fillna(df.mean())\n",
    "d2 = df.dropna()"
   ]
  },
  {
   "cell_type": "code",
   "execution_count": 29,
   "metadata": {},
   "outputs": [
    {
     "data": {
      "text/plain": [
       "(12528, 9273)"
      ]
     },
     "execution_count": 29,
     "metadata": {},
     "output_type": "execute_result"
    }
   ],
   "source": [
    "len(d1), len(d2)"
   ]
  },
  {
   "cell_type": "code",
   "execution_count": null,
   "metadata": {},
   "outputs": [],
   "source": []
  },
  {
   "cell_type": "markdown",
   "metadata": {},
   "source": [
    "### No Categorical Data"
   ]
  },
  {
   "cell_type": "code",
   "execution_count": 30,
   "metadata": {},
   "outputs": [],
   "source": [
    "X1 = d1.drop('target_class', axis=1)\n",
    "X2 = d2.drop('target_class', axis=1)\n",
    "Y1 = d1['target_class']\n",
    "Y2 = d2['target_class']"
   ]
  },
  {
   "cell_type": "code",
   "execution_count": 31,
   "metadata": {},
   "outputs": [],
   "source": [
    "from sklearn.preprocessing import StandardScaler\n",
    "SS = StandardScaler()\n",
    "X1 = SS.fit_transform(X1)\n",
    "X2 = SS.fit_transform(X2)"
   ]
  },
  {
   "cell_type": "code",
   "execution_count": 32,
   "metadata": {},
   "outputs": [
    {
     "data": {
      "text/plain": [
       "<AxesSubplot:>"
      ]
     },
     "execution_count": 32,
     "metadata": {},
     "output_type": "execute_result"
    },
    {
     "data": {
      "image/png": "[encoded data removed]",
      "text/plain": [
       "<Figure size 1080x1080 with 1 Axes>"
      ]
     },
     "metadata": {
      "needs_background": "light"
     },
     "output_type": "display_data"
    }
   ],
   "source": [
    "import seaborn as sns\n",
    "import matplotlib.pyplot as plt\n",
    "plt.figure(figsize=(15,15))\n",
    "sns.boxplot(data=d1)"
   ]
  },
  {
   "cell_type": "code",
   "execution_count": 33,
   "metadata": {},
   "outputs": [],
   "source": [
    "from sklearn.model_selection import train_test_split\n",
    "X1_train, X1_test, Y1_train, Y1_test = train_test_split(X1, Y1, test_size=0.2, random_state=42)\n",
    "X2_train, X2_test, Y2_train, Y2_test = train_test_split(X2, Y2, test_size=0.2, random_state=42)"
   ]
  },
  {
   "cell_type": "code",
   "execution_count": 39,
   "metadata": {},
   "outputs": [],
   "source": [
    "from typing import Dict, List\n",
    "\n",
    "\n",
    "def fit_name_add(svc,svc2, X_train, Y_train, X_test, Y_test,results,label):\n",
    "    svc.fit(X1_train, Y1_train)\n",
    "    svc2.fit(X2_train, Y2_train)\n",
    "    predict1_1 = svc.predict(X1_test)\n",
    "    predict2_1 = svc2.predict(X2_test)\n",
    "    results[label] = [svc.score(X1_test, Y1_test), svc2.score(X2_test, Y2_test)]\n",
    "    return results"
   ]
  },
  {
   "cell_type": "code",
   "execution_count": 40,
   "metadata": {},
   "outputs": [],
   "source": [
    "results = {}\n",
    "from sklearn.svm import SVC\n",
    "svc = SVC(kernel='rbf', C=1.0, gamma='auto')\n",
    "svc2 = SVC(kernel='rbf', C=1.0, gamma='auto')\n",
    "results = fit_name_add(svc,svc2, X1_train, Y1_train, X1_test, Y1_test,results,'1_rbc_auto')\n",
    "\n"
   ]
  },
  {
   "cell_type": "code",
   "execution_count": 41,
   "metadata": {},
   "outputs": [],
   "source": [
    "svc = SVC(kernel='rbf', C=100.0)\n",
    "svc2 = SVC(kernel='rbf', C=100.0)\n",
    "results = fit_name_add(svc,svc2, X1_train, Y1_train, X1_test, Y1_test,results,'100_rbf')\n"
   ]
  },
  {
   "cell_type": "code",
   "execution_count": 42,
   "metadata": {},
   "outputs": [],
   "source": [
    "svc = SVC(kernel='rbf', C=1000.0)\n",
    "svc2 = SVC(kernel='rbf', C=1000.0)\n",
    "results = fit_name_add(svc,svc2, X1_train, Y1_train, X1_test, Y1_test,results,'1000_rbf')"
   ]
  },
  {
   "cell_type": "code",
   "execution_count": 43,
   "metadata": {},
   "outputs": [],
   "source": [
    "svc = SVC(kernel='linear', C=1.0)\n",
    "svc2 = SVC(kernel='linear', C=1.0)\n",
    "results = fit_name_add(svc,svc2, X1_train, Y1_train, X1_test, Y1_test,results,'1_linear')\n"
   ]
  },
  {
   "cell_type": "code",
   "execution_count": null,
   "metadata": {},
   "outputs": [],
   "source": [
    "svc = SVC(kernel='linear', C=100.0)\n",
    "svc2 = SVC(kernel='linear', C=100.0)\n",
    "results = fit_name_add(svc,svc2, X1_train, Y1_train, X1_test, Y1_test,results,'100_linear')\n"
   ]
  },
  {
   "cell_type": "code",
   "execution_count": 44,
   "metadata": {},
   "outputs": [],
   "source": [
    "svc = SVC(kernel='linear', C=1000.0)\n",
    "svc2 = SVC(kernel='linear', C=1000.0)\n",
    "results = fit_name_add(svc,svc2, X1_train, Y1_train, X1_test, Y1_test,results,'1000_linear')"
   ]
  },
  {
   "cell_type": "code",
   "execution_count": 45,
   "metadata": {},
   "outputs": [],
   "source": [
    "svc = SVC(kernel='rbf', C=100.0,gamma=100.0)\n",
    "svc2 = SVC(kernel='rbf', C=100.0,gamma=100.0)\n",
    "results = fit_name_add(svc,svc2, X1_train, Y1_train, X1_test, Y1_test,results,'100_rbf_100_gamma')"
   ]
  },
  {
   "cell_type": "code",
   "execution_count": 46,
   "metadata": {},
   "outputs": [],
   "source": [
    "svc = SVC(kernel='linear', C=100.0,gamma=100.0)\n",
    "svc2 = SVC(kernel='linear', C=100.0,gamma=100.0)\n",
    "results = fit_name_add(svc,svc2, X1_train, Y1_train, X1_test, Y1_test,results,'100_linear_100_gamma')"
   ]
  },
  {
   "cell_type": "code",
   "execution_count": 47,
   "metadata": {},
   "outputs": [],
   "source": [
    "svc = SVC(kernel='rbf', C=1000.0,gamma=1000.0)\n",
    "svc2 = SVC(kernel='rbf', C=1000.0,gamma=1000.0)\n",
    "results = fit_name_add(svc,svc2, X1_train, Y1_train, X1_test, Y1_test,results,'1000_rbf_1000_gamma')"
   ]
  },
  {
   "cell_type": "code",
   "execution_count": 48,
   "metadata": {},
   "outputs": [],
   "source": [
    "svc = SVC(kernel='linear', C=1000.0,gamma=1000.0)\n",
    "svc2 = SVC(kernel='linear', C=1000.0,gamma=1000.0)\n",
    "results = fit_name_add(svc,svc2, X1_train, Y1_train, X1_test, Y1_test,results,'1000_linear_1000_gamma')"
   ]
  },
  {
   "cell_type": "code",
   "execution_count": 49,
   "metadata": {},
   "outputs": [
    {
     "data": {
      "text/plain": [
       "{'1_rbc_auto': [0.9796488427773344, 0.9800539083557952],\n",
       " '100_rbf': [0.9776536312849162, 0.9778975741239893],\n",
       " '1000_rbf': [0.9764565043894653, 0.9752021563342318],\n",
       " '1_linear': [0.9776536312849162, 0.9800539083557952],\n",
       " '1000_linear': [0.9784517158818835, 0.9811320754716981],\n",
       " '100_rbf_100_gamma': [0.9094173982442139, 0.9121293800539083],\n",
       " '100_linear_100_gamma': [0.9780526735833999, 0.9811320754716981],\n",
       " '1000_rbf_1000_gamma': [0.9094173982442139, 0.9121293800539083],\n",
       " '1000_linear_1000_gamma': [0.9784517158818835, 0.9811320754716981]}"
      ]
     },
     "execution_count": 49,
     "metadata": {},
     "output_type": "execute_result"
    }
   ],
   "source": [
    "results"
   ]
  },
  {
   "cell_type": "code",
   "execution_count": null,
   "metadata": {},
   "outputs": [],
   "source": []
  }
 ],
 "metadata": {
  "kernelspec": {
   "display_name": "Python 3.7.0 64-bit",
   "language": "python",
   "name": "python3"
  },
  "language_info": {
   "codemirror_mode": {
    "name": "ipython",
    "version": 3
   },
   "file_extension": ".py",
   "mimetype": "text/x-python",
   "name": "python",
   "nbconvert_exporter": "python",
   "pygments_lexer": "ipython3",
   "version": "3.7.0"
  },
  "orig_nbformat": 4,
  "vscode": {
   "interpreter": {
    "hash": "e534e48711db4d1e1c48977d0d14ff85b1f16d41bcc4fdfd88268a329b3c9d66"
   }
  }
 },
 "nbformat": 4,
 "nbformat_minor": 2
}
