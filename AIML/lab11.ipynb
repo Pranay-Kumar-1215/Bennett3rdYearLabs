{
  "nbformat": 4,
  "nbformat_minor": 0,
  "metadata": {
    "colab": {
      "name": "E20CSE481_LAB01_AIML.ipynb",
      "provenance": []
    },
    "kernelspec": {
      "name": "python3",
      "display_name": "Python 3"
    },
    "language_info": {
      "name": "python"
    }
  },
  "cells": [
    {
      "cell_type": "code",
      "execution_count": null,
      "metadata": {
        "colab": {
          "base_uri": "https://localhost:8080/"
        },
        "id": "CEYF-BcEiKHy",
        "outputId": "a9d9ea6f-edc3-4c66-d634-b6b2d8c956dc"
      },
      "outputs": [
        {
          "output_type": "stream",
          "name": "stdout",
          "text": [
            "1.21.6\n",
            "[1 2 3 4 5]\n",
            "[[1 2 3]\n",
            " [3 4 7]]\n",
            "1\n",
            "2\n",
            "int64\n",
            "int64\n",
            "5\n",
            "6\n",
            "8\n",
            "8\n",
            "(2, 3)\n",
            "[[1 2]\n",
            " [3 3]\n",
            " [4 7]]\n"
          ]
        }
      ],
      "source": [
        "# 1) Creating Numpy Arrays\n",
        "\n",
        "import numpy as np\n",
        "print(np.version.version)\n",
        "\n",
        "arr1=np.array([1,2,3,4,5])\n",
        "print(arr1)\n",
        "\n",
        "arr2=np.array([[1,2,3],[3,4,7]])\n",
        "print(arr2)\n",
        "\n",
        "print(arr1.ndim)\n",
        "print(arr2.ndim)\n",
        "\n",
        "print(arr1.dtype)\n",
        "print(arr2.dtype)\n",
        "\n",
        "print(arr1.size)\n",
        "print(arr2.size)\n",
        "\n",
        "print(arr1.itemsize)\n",
        "print(arr2.itemsize)\n",
        "\n",
        "print(arr2.shape)\n",
        "\n",
        "print(arr2.reshape(3,2))\n",
        "\n"
      ]
    },
    {
      "cell_type": "code",
      "source": [
        "#2) Slicing of Arrays\n",
        "arr1=np.array([4,5,6,3,9,7])\n",
        "print(arr1)\n",
        "print(arr1[2:5])\n",
        "print()\n",
        "\n",
        "arr2=np.array([[1,2,3],[4,5,6]])\n",
        "print(arr2)\n",
        "print(arr2[0:1,0:2])\n"
      ],
      "metadata": {
        "colab": {
          "base_uri": "https://localhost:8080/"
        },
        "id": "vK_HzXgekknT",
        "outputId": "07ef5b67-b292-42d5-b74e-9f2e47d87c35"
      },
      "execution_count": null,
      "outputs": [
        {
          "output_type": "stream",
          "name": "stdout",
          "text": [
            "[4 5 6 3 9 7]\n",
            "[6 3 9]\n",
            "\n",
            "[[1 2 3]\n",
            " [4 5 6]]\n",
            "[[1 2]]\n"
          ]
        }
      ]
    },
    {
      "cell_type": "code",
      "source": [
        "#3)Join and Splitting of Numpy Arrays\n",
        "arr1=np.array([4,5,6,7])\n",
        "arr2=np.array([3,4,1])\n",
        "arr3=np.concatenate([arr1,arr2])\n",
        "print(arr3)\n",
        "print()\n",
        "\n",
        "arr1=np.array([[1,2,3],[3,4,5]])\n",
        "arr2=np.array([[6,7,8],[9,11,10]])\n",
        "arr3=np.concatenate([arr1,arr2],axis=0)\n",
        "print(arr3)\n",
        "print()\n",
        "\n",
        "arr1=np.array([4,5,6,3,9])\n",
        "print(arr1)\n",
        "print(np.array_split(arr1,3))\n",
        "print()\n",
        "\n",
        "arr1=np.array([[1,2,3],[4,5,6],[7,8,9],[10,11,12]])\n",
        "print(arr1)\n",
        "print(np.array_split(arr1,3))\n",
        "print()\n"
      ],
      "metadata": {
        "colab": {
          "base_uri": "https://localhost:8080/"
        },
        "id": "QgLFmnJdlauv",
        "outputId": "f19a59b9-7a34-4dd3-cde4-5c513cdfdf4d"
      },
      "execution_count": null,
      "outputs": [
        {
          "output_type": "stream",
          "name": "stdout",
          "text": [
            "[4 5 6 7 3 4 1]\n",
            "\n",
            "[[ 1  2  3]\n",
            " [ 3  4  5]\n",
            " [ 6  7  8]\n",
            " [ 9 11 10]]\n",
            "\n",
            "[4 5 6 3 9]\n",
            "[array([4, 5]), array([6, 3]), array([9])]\n",
            "\n",
            "[[ 1  2  3]\n",
            " [ 4  5  6]\n",
            " [ 7  8  9]\n",
            " [10 11 12]]\n",
            "[array([[1, 2, 3],\n",
            "       [4, 5, 6]]), array([[7, 8, 9]]), array([[10, 11, 12]])]\n",
            "\n"
          ]
        }
      ]
    },
    {
      "cell_type": "code",
      "source": [
        "#4)Searching elements in an Array\n",
        "arr1=np.array([1,2,3,4,5,4,4])\n",
        "print(arr1)\n",
        "result = np.where(arr1 == 4)\n",
        "print(\"Elements with value 4 exists at following indices:\", result[0])\n",
        "print()\n",
        "\n",
        "arr1=np.array([[1,2,3],[4,5,6],[7,8,9],[10,11,12]])\n",
        "print(arr1)\n",
        "result = np.where(arr1 == 5)\n",
        "print(\"Value 5 exists at following coordinate:\", result)\n",
        "print()\n",
        "\n",
        "arr1=np.array([1,2,3,4,5,6,7,8])\n",
        "print(arr1)\n",
        "result1=np.where(arr1%2==0)\n",
        "result2=np.where(arr1%2 !=0)\n",
        "print(\"Indices of even elements:\",result1[0])\n",
        "print(\"Indices of odd elements:\",result2[0])"
      ],
      "metadata": {
        "colab": {
          "base_uri": "https://localhost:8080/"
        },
        "id": "v8bo15wLnkpA",
        "outputId": "4d7c0500-13f0-4d81-b024-5aa286cb5bc6"
      },
      "execution_count": null,
      "outputs": [
        {
          "output_type": "stream",
          "name": "stdout",
          "text": [
            "[1 2 3 4 5 4 4]\n",
            "Elements with value 4 exists at following indices: [3 5 6]\n",
            "\n",
            "[[ 1  2  3]\n",
            " [ 4  5  6]\n",
            " [ 7  8  9]\n",
            " [10 11 12]]\n",
            "Value 5 exists at following coordinate: (array([1]), array([1]))\n",
            "\n",
            "[1 2 3 4 5 6 7 8]\n",
            "Indices of even elements: [1 3 5 7]\n",
            "Indices of odd elements: [0 2 4 6]\n"
          ]
        }
      ]
    },
    {
      "cell_type": "code",
      "source": [
        "#5)Sorting of arrays\n",
        "arr1=np.array([6,5,1,2,9,10,36,7])\n",
        "print(arr1)\n",
        "print(np.sort(arr1))\n",
        "print(np.sort(arr1)[::-1])\n",
        "print()\n",
        "\n",
        "arr1=np.array([[5,3,7],[8,10,6],[40,-2,7]])\n",
        "print(np.sort(arr1))\n",
        "a_idx = np.argsort(-arr1)\n",
        "sort_array = np.take_along_axis(arr1, a_idx, axis=1)\n",
        "print(sort_array)"
      ],
      "metadata": {
        "id": "g4aukC8kqsGq",
        "colab": {
          "base_uri": "https://localhost:8080/"
        },
        "outputId": "0793fbc5-b2e5-4fc3-df68-95bdd04450fe"
      },
      "execution_count": null,
      "outputs": [
        {
          "output_type": "stream",
          "name": "stdout",
          "text": [
            "[ 6  5  1  2  9 10 36  7]\n",
            "[ 1  2  5  6  7  9 10 36]\n",
            "[36 10  9  7  6  5  2  1]\n",
            "\n",
            "[[ 3  5  7]\n",
            " [ 6  8 10]\n",
            " [-2  7 40]]\n",
            "[[ 7  5  3]\n",
            " [10  8  6]\n",
            " [40  7 -2]]\n"
          ]
        }
      ]
    },
    {
      "cell_type": "code",
      "source": [
        "#6)Random number generation\n",
        "import numpy as np\n",
        "from numpy import random\n",
        "arr=random.randint(20, size=(6))\n",
        "print(arr)\n",
        "print()\n",
        "\n",
        "\n",
        "arr = random.rand(5)\n",
        "print(arr)\n",
        "print()\n",
        "\n",
        "\n",
        "\n",
        "arr = random.randint(50, size=(3, 5))\n",
        "print(arr)\n",
        "print()\n",
        "\n",
        "arr = random.rand(3, 5)\n",
        "print(arr)\n",
        "print()\n",
        "\n",
        "arr=np.array([6,5,1,2,9,10,36,7])\n",
        "np.random.shuffle(arr)\n",
        "print(arr)\n",
        "print()\n",
        "\n",
        "arr=np.array([[1,2,3],[4,5,6],[7,8,9],[10,11,12]])\n",
        "np.random.shuffle(arr)\n",
        "print(arr)\n",
        "print()\n",
        "\n"
      ],
      "metadata": {
        "id": "3NWCkdvj75Ue",
        "colab": {
          "base_uri": "https://localhost:8080/"
        },
        "outputId": "ea78ab55-7f95-4a19-89b2-1ec9f150e957"
      },
      "execution_count": null,
      "outputs": [
        {
          "output_type": "stream",
          "name": "stdout",
          "text": [
            "[ 7 15  9  9 19  8]\n",
            "\n",
            "[0.56433996 0.69507078 0.30989255 0.20740315 0.94757072]\n",
            "\n",
            "[[ 1 37 22  1  9]\n",
            " [23 41 10 10 49]\n",
            " [11 35 14 21 45]]\n",
            "\n",
            "[[1.21369449e-01 9.24629618e-01 3.23610950e-01 3.57790146e-01\n",
            "  7.04055518e-01]\n",
            " [9.33844702e-01 6.39919295e-01 2.12781191e-01 6.78334326e-01\n",
            "  6.77956528e-01]\n",
            " [7.00432234e-01 4.77578166e-01 6.09914922e-01 8.01830556e-05\n",
            "  6.36612536e-01]]\n",
            "\n",
            "[10  6  7 36  1  2  9  5]\n",
            "\n",
            "[[ 4  5  6]\n",
            " [ 1  2  3]\n",
            " [ 7  8  9]\n",
            " [10 11 12]]\n",
            "\n"
          ]
        }
      ]
    },
    {
      "cell_type": "code",
      "source": [
        "#PART B\n",
        "import pandas as pd\n",
        "import numpy as np\n",
        "wine_data = pd.read_csv('winequality-red.csv')\n",
        "\n",
        "\n",
        "arr=wine_data.to_numpy()\n",
        "print(arr)\n",
        "wine_data.describe()\n",
        "print(arr.shape)\n",
        "\n",
        "Y = arr[0:1144,-2:-1]\n",
        "print(Y.shape)\n",
        "print(Y)\n",
        "\n",
        "X = arr[0:1144,0:12]\n",
        "print(X.shape)\n",
        "\n"
      ],
      "metadata": {
        "colab": {
          "base_uri": "https://localhost:8080/"
        },
        "id": "MXH6WSdUB-yO",
        "outputId": "55e17a8e-1194-484b-d243-e7f74b6b249e"
      },
      "execution_count": 13,
      "outputs": [
        {
          "output_type": "stream",
          "name": "stdout",
          "text": [
            "[['7.4;0.7;0;1.9;0.076;11;34;0.9978;3.51;0.56;9.4;5']\n",
            " ['7.8;0.88;0;2.6;0.098;25;67;0.9968;3.2;0.68;9.8;5']\n",
            " ['7.8;0.76;0.04;2.3;0.092;15;54;0.997;3.26;0.65;9.8;5']\n",
            " ...\n",
            " ['6.3;0.51;0.13;2.3;0.076;29;40;0.99574;3.42;0.75;11;6']\n",
            " ['5.9;0.645;0.12;2;0.075;32;44;0.99547;3.57;0.71;10.2;5']\n",
            " ['6;0.31;0.47;3.6;0.067;18;42;0.99549;3.39;0.66;11;6']]\n",
            "(1599, 1)\n",
            "(1144, 0)\n",
            "[]\n",
            "(1144, 1)\n"
          ]
        }
      ]
    }
  ]
}