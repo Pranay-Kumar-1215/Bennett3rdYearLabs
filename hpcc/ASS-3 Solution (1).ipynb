{
  "cells": [
    {
      "cell_type": "code",
      "execution_count": 1,
      "metadata": {
        "colab": {
          "base_uri": "https://localhost:8080/"
        },
        "id": "eWN_aGazagqq",
        "outputId": "1f551023-ca85-43fc-8bdf-3352505828d7"
      },
      "outputs": [
        {
          "name": "stdout",
          "output_type": "stream",
          "text": [
            "--2021-02-04 08:01:40--  https://archive.ics.uci.edu/ml/machine-learning-databases/00526/data.zip\n",
            "Resolving archive.ics.uci.edu (archive.ics.uci.edu)... 128.195.10.252\n",
            "Connecting to archive.ics.uci.edu (archive.ics.uci.edu)|128.195.10.252|:443... connected.\n",
            "HTTP request sent, awaiting response... 200 OK\n",
            "Length: 116104947 (111M) [application/x-httpd-php]\n",
            "Saving to: ‘data.zip’\n",
            "\n",
            "data.zip            100%[===================>] 110.73M  38.1MB/s    in 2.9s    \n",
            "\n",
            "2021-02-04 08:01:44 (38.1 MB/s) - ‘data.zip’ saved [116104947/116104947]\n",
            "\n"
          ]
        }
      ],
      "source": [
        "!wget https://archive.ics.uci.edu/ml/machine-learning-databases/00526/data.zip"
      ]
    },
    {
      "cell_type": "code",
      "execution_count": 2,
      "metadata": {
        "colab": {
          "base_uri": "https://localhost:8080/"
        },
        "id": "Yyp-V40xamdk",
        "outputId": "1098c0df-1b33-4581-a240-a014ec4875b6"
      },
      "outputs": [
        {
          "name": "stdout",
          "output_type": "stream",
          "text": [
            "Archive:  data.zip\n",
            "  inflating: data/BitcoinHeistData.csv  \n"
          ]
        }
      ],
      "source": [
        "!unzip data.zip -d data"
      ]
    },
    {
      "cell_type": "code",
      "execution_count": 54,
      "metadata": {
        "id": "7ZDTHgV3a0t4"
      },
      "outputs": [],
      "source": [
        "import pandas as pd\n",
        "import numpy as np\n",
        "from sklearn.preprocessing import LabelEncoder\n",
        "from sklearn.model_selection import train_test_split\n",
        "import gzip, pickle\n"
      ]
    },
    {
      "cell_type": "code",
      "execution_count": 55,
      "metadata": {
        "id": "IPTLOgFCa6GE"
      },
      "outputs": [],
      "source": [
        "df=pd.read_csv('/content/data/BitcoinHeistData.csv')"
      ]
    },
    {
      "cell_type": "code",
      "execution_count": 56,
      "metadata": {
        "colab": {
          "base_uri": "https://localhost:8080/",
          "height": 204
        },
        "id": "QojqIG8HbetF",
        "outputId": "ad3c1f53-839d-4506-f25d-8138ed241a4f"
      },
      "outputs": [
        {
          "data": {
            "text/html": [
              "<div>\n",
              "<style scoped>\n",
              "    .dataframe tbody tr th:only-of-type {\n",
              "        vertical-align: middle;\n",
              "    }\n",
              "\n",
              "    .dataframe tbody tr th {\n",
              "        vertical-align: top;\n",
              "    }\n",
              "\n",
              "    .dataframe thead th {\n",
              "        text-align: right;\n",
              "    }\n",
              "</style>\n",
              "<table border=\"1\" class=\"dataframe\">\n",
              "  <thead>\n",
              "    <tr style=\"text-align: right;\">\n",
              "      <th></th>\n",
              "      <th>address</th>\n",
              "      <th>year</th>\n",
              "      <th>day</th>\n",
              "      <th>length</th>\n",
              "      <th>weight</th>\n",
              "      <th>count</th>\n",
              "      <th>looped</th>\n",
              "      <th>neighbors</th>\n",
              "      <th>income</th>\n",
              "      <th>label</th>\n",
              "    </tr>\n",
              "  </thead>\n",
              "  <tbody>\n",
              "    <tr>\n",
              "      <th>0</th>\n",
              "      <td>111K8kZAEnJg245r2cM6y9zgJGHZtJPy6</td>\n",
              "      <td>2017</td>\n",
              "      <td>11</td>\n",
              "      <td>18</td>\n",
              "      <td>0.008333</td>\n",
              "      <td>1</td>\n",
              "      <td>0</td>\n",
              "      <td>2</td>\n",
              "      <td>100050000.0</td>\n",
              "      <td>princetonCerber</td>\n",
              "    </tr>\n",
              "    <tr>\n",
              "      <th>1</th>\n",
              "      <td>1123pJv8jzeFQaCV4w644pzQJzVWay2zcA</td>\n",
              "      <td>2016</td>\n",
              "      <td>132</td>\n",
              "      <td>44</td>\n",
              "      <td>0.000244</td>\n",
              "      <td>1</td>\n",
              "      <td>0</td>\n",
              "      <td>1</td>\n",
              "      <td>100000000.0</td>\n",
              "      <td>princetonLocky</td>\n",
              "    </tr>\n",
              "    <tr>\n",
              "      <th>2</th>\n",
              "      <td>112536im7hy6wtKbpH1qYDWtTyMRAcA2p7</td>\n",
              "      <td>2016</td>\n",
              "      <td>246</td>\n",
              "      <td>0</td>\n",
              "      <td>1.000000</td>\n",
              "      <td>1</td>\n",
              "      <td>0</td>\n",
              "      <td>2</td>\n",
              "      <td>200000000.0</td>\n",
              "      <td>princetonCerber</td>\n",
              "    </tr>\n",
              "    <tr>\n",
              "      <th>3</th>\n",
              "      <td>1126eDRw2wqSkWosjTCre8cjjQW8sSeWH7</td>\n",
              "      <td>2016</td>\n",
              "      <td>322</td>\n",
              "      <td>72</td>\n",
              "      <td>0.003906</td>\n",
              "      <td>1</td>\n",
              "      <td>0</td>\n",
              "      <td>2</td>\n",
              "      <td>71200000.0</td>\n",
              "      <td>princetonCerber</td>\n",
              "    </tr>\n",
              "    <tr>\n",
              "      <th>4</th>\n",
              "      <td>1129TSjKtx65E35GiUo4AYVeyo48twbrGX</td>\n",
              "      <td>2016</td>\n",
              "      <td>238</td>\n",
              "      <td>144</td>\n",
              "      <td>0.072848</td>\n",
              "      <td>456</td>\n",
              "      <td>0</td>\n",
              "      <td>1</td>\n",
              "      <td>200000000.0</td>\n",
              "      <td>princetonLocky</td>\n",
              "    </tr>\n",
              "  </tbody>\n",
              "</table>\n",
              "</div>"
            ],
            "text/plain": [
              "                              address  year  ...       income            label\n",
              "0   111K8kZAEnJg245r2cM6y9zgJGHZtJPy6  2017  ...  100050000.0  princetonCerber\n",
              "1  1123pJv8jzeFQaCV4w644pzQJzVWay2zcA  2016  ...  100000000.0   princetonLocky\n",
              "2  112536im7hy6wtKbpH1qYDWtTyMRAcA2p7  2016  ...  200000000.0  princetonCerber\n",
              "3  1126eDRw2wqSkWosjTCre8cjjQW8sSeWH7  2016  ...   71200000.0  princetonCerber\n",
              "4  1129TSjKtx65E35GiUo4AYVeyo48twbrGX  2016  ...  200000000.0   princetonLocky\n",
              "\n",
              "[5 rows x 10 columns]"
            ]
          },
          "execution_count": 56,
          "metadata": {
            "tags": []
          },
          "output_type": "execute_result"
        }
      ],
      "source": [
        "df.head()"
      ]
    },
    {
      "cell_type": "code",
      "execution_count": 57,
      "metadata": {
        "colab": {
          "base_uri": "https://localhost:8080/"
        },
        "id": "PE8-jyh1IY1i",
        "outputId": "1a79d5f0-e31b-44a6-cb6a-972cd7605201"
      },
      "outputs": [
        {
          "data": {
            "text/plain": [
              "address      111K8kZAEnJg245r2cM6y9zgJGHZtJPy6\n",
              "year                                      2017\n",
              "day                                         11\n",
              "length                                      18\n",
              "weight                              0.00833333\n",
              "count                                        1\n",
              "looped                                       0\n",
              "neighbors                                    2\n",
              "income                              1.0005e+08\n",
              "label                          princetonCerber\n",
              "Name: 0, dtype: object"
            ]
          },
          "execution_count": 57,
          "metadata": {
            "tags": []
          },
          "output_type": "execute_result"
        }
      ],
      "source": [
        "df.loc[0]"
      ]
    },
    {
      "cell_type": "code",
      "execution_count": 58,
      "metadata": {
        "id": "rQSabnXfkBG5"
      },
      "outputs": [],
      "source": [
        "lb=LabelEncoder()\n",
        "df['address']=lb.fit_transform(df['address'])\n",
        "df['label']=lb.fit_transform(df['label'])"
      ]
    },
    {
      "cell_type": "code",
      "execution_count": 59,
      "metadata": {
        "colab": {
          "base_uri": "https://localhost:8080/",
          "height": 204
        },
        "id": "q9pgncqfLPrH",
        "outputId": "88502900-9009-4185-a183-6389da4bcfea"
      },
      "outputs": [
        {
          "data": {
            "text/html": [
              "<div>\n",
              "<style scoped>\n",
              "    .dataframe tbody tr th:only-of-type {\n",
              "        vertical-align: middle;\n",
              "    }\n",
              "\n",
              "    .dataframe tbody tr th {\n",
              "        vertical-align: top;\n",
              "    }\n",
              "\n",
              "    .dataframe thead th {\n",
              "        text-align: right;\n",
              "    }\n",
              "</style>\n",
              "<table border=\"1\" class=\"dataframe\">\n",
              "  <thead>\n",
              "    <tr style=\"text-align: right;\">\n",
              "      <th></th>\n",
              "      <th>address</th>\n",
              "      <th>year</th>\n",
              "      <th>day</th>\n",
              "      <th>length</th>\n",
              "      <th>weight</th>\n",
              "      <th>count</th>\n",
              "      <th>looped</th>\n",
              "      <th>neighbors</th>\n",
              "      <th>income</th>\n",
              "      <th>label</th>\n",
              "    </tr>\n",
              "  </thead>\n",
              "  <tbody>\n",
              "    <tr>\n",
              "      <th>0</th>\n",
              "      <td>23</td>\n",
              "      <td>2017</td>\n",
              "      <td>11</td>\n",
              "      <td>18</td>\n",
              "      <td>0.008333</td>\n",
              "      <td>1</td>\n",
              "      <td>0</td>\n",
              "      <td>2</td>\n",
              "      <td>100050000.0</td>\n",
              "      <td>26</td>\n",
              "    </tr>\n",
              "    <tr>\n",
              "      <th>1</th>\n",
              "      <td>128</td>\n",
              "      <td>2016</td>\n",
              "      <td>132</td>\n",
              "      <td>44</td>\n",
              "      <td>0.000244</td>\n",
              "      <td>1</td>\n",
              "      <td>0</td>\n",
              "      <td>1</td>\n",
              "      <td>100000000.0</td>\n",
              "      <td>27</td>\n",
              "    </tr>\n",
              "    <tr>\n",
              "      <th>2</th>\n",
              "      <td>169</td>\n",
              "      <td>2016</td>\n",
              "      <td>246</td>\n",
              "      <td>0</td>\n",
              "      <td>1.000000</td>\n",
              "      <td>1</td>\n",
              "      <td>0</td>\n",
              "      <td>2</td>\n",
              "      <td>200000000.0</td>\n",
              "      <td>26</td>\n",
              "    </tr>\n",
              "    <tr>\n",
              "      <th>3</th>\n",
              "      <td>217</td>\n",
              "      <td>2016</td>\n",
              "      <td>322</td>\n",
              "      <td>72</td>\n",
              "      <td>0.003906</td>\n",
              "      <td>1</td>\n",
              "      <td>0</td>\n",
              "      <td>2</td>\n",
              "      <td>71200000.0</td>\n",
              "      <td>26</td>\n",
              "    </tr>\n",
              "    <tr>\n",
              "      <th>4</th>\n",
              "      <td>293</td>\n",
              "      <td>2016</td>\n",
              "      <td>238</td>\n",
              "      <td>144</td>\n",
              "      <td>0.072848</td>\n",
              "      <td>456</td>\n",
              "      <td>0</td>\n",
              "      <td>1</td>\n",
              "      <td>200000000.0</td>\n",
              "      <td>27</td>\n",
              "    </tr>\n",
              "  </tbody>\n",
              "</table>\n",
              "</div>"
            ],
            "text/plain": [
              "   address  year  day  length  ...  looped  neighbors       income  label\n",
              "0       23  2017   11      18  ...       0          2  100050000.0     26\n",
              "1      128  2016  132      44  ...       0          1  100000000.0     27\n",
              "2      169  2016  246       0  ...       0          2  200000000.0     26\n",
              "3      217  2016  322      72  ...       0          2   71200000.0     26\n",
              "4      293  2016  238     144  ...       0          1  200000000.0     27\n",
              "\n",
              "[5 rows x 10 columns]"
            ]
          },
          "execution_count": 59,
          "metadata": {
            "tags": []
          },
          "output_type": "execute_result"
        }
      ],
      "source": [
        "df.head()"
      ]
    },
    {
      "cell_type": "code",
      "execution_count": 60,
      "metadata": {
        "id": "wD0hRlWiIG75"
      },
      "outputs": [],
      "source": [
        "new_df=df.sample(frac=1)"
      ]
    },
    {
      "cell_type": "code",
      "execution_count": 65,
      "metadata": {
        "colab": {
          "base_uri": "https://localhost:8080/",
          "height": 80
        },
        "id": "amkvv-8mLD8-",
        "outputId": "66991251-8a71-4921-8b51-7314e5d07670"
      },
      "outputs": [
        {
          "data": {
            "text/html": [
              "<div>\n",
              "<style scoped>\n",
              "    .dataframe tbody tr th:only-of-type {\n",
              "        vertical-align: middle;\n",
              "    }\n",
              "\n",
              "    .dataframe tbody tr th {\n",
              "        vertical-align: top;\n",
              "    }\n",
              "\n",
              "    .dataframe thead th {\n",
              "        text-align: right;\n",
              "    }\n",
              "</style>\n",
              "<table border=\"1\" class=\"dataframe\">\n",
              "  <thead>\n",
              "    <tr style=\"text-align: right;\">\n",
              "      <th></th>\n",
              "      <th>address</th>\n",
              "      <th>year</th>\n",
              "      <th>day</th>\n",
              "      <th>length</th>\n",
              "      <th>weight</th>\n",
              "      <th>count</th>\n",
              "      <th>looped</th>\n",
              "      <th>neighbors</th>\n",
              "      <th>income</th>\n",
              "      <th>label</th>\n",
              "    </tr>\n",
              "  </thead>\n",
              "  <tbody>\n",
              "    <tr>\n",
              "      <th>1</th>\n",
              "      <td>128</td>\n",
              "      <td>2016</td>\n",
              "      <td>132</td>\n",
              "      <td>44</td>\n",
              "      <td>0.000244</td>\n",
              "      <td>1</td>\n",
              "      <td>0</td>\n",
              "      <td>1</td>\n",
              "      <td>100000000.0</td>\n",
              "      <td>27</td>\n",
              "    </tr>\n",
              "  </tbody>\n",
              "</table>\n",
              "</div>"
            ],
            "text/plain": [
              "   address  year  day  length  ...  looped  neighbors       income  label\n",
              "1      128  2016  132      44  ...       0          1  100000000.0     27\n",
              "\n",
              "[1 rows x 10 columns]"
            ]
          },
          "execution_count": 65,
          "metadata": {
            "tags": []
          },
          "output_type": "execute_result"
        }
      ],
      "source": [
        "new_df.loc[new_df['address'] == 128]"
      ]
    },
    {
      "cell_type": "code",
      "execution_count": 77,
      "metadata": {
        "colab": {
          "base_uri": "https://localhost:8080/",
          "height": 204
        },
        "id": "nL5BZhnbMGLB",
        "outputId": "ac247b23-c18a-4811-eb32-b0d12ea93df8"
      },
      "outputs": [
        {
          "data": {
            "text/html": [
              "<div>\n",
              "<style scoped>\n",
              "    .dataframe tbody tr th:only-of-type {\n",
              "        vertical-align: middle;\n",
              "    }\n",
              "\n",
              "    .dataframe tbody tr th {\n",
              "        vertical-align: top;\n",
              "    }\n",
              "\n",
              "    .dataframe thead th {\n",
              "        text-align: right;\n",
              "    }\n",
              "</style>\n",
              "<table border=\"1\" class=\"dataframe\">\n",
              "  <thead>\n",
              "    <tr style=\"text-align: right;\">\n",
              "      <th></th>\n",
              "      <th>address</th>\n",
              "      <th>year</th>\n",
              "      <th>day</th>\n",
              "      <th>length</th>\n",
              "      <th>weight</th>\n",
              "      <th>count</th>\n",
              "      <th>looped</th>\n",
              "      <th>neighbors</th>\n",
              "      <th>income</th>\n",
              "      <th>label</th>\n",
              "    </tr>\n",
              "  </thead>\n",
              "  <tbody>\n",
              "    <tr>\n",
              "      <th>2285858</th>\n",
              "      <td>808373</td>\n",
              "      <td>2017</td>\n",
              "      <td>65</td>\n",
              "      <td>28</td>\n",
              "      <td>0.001953</td>\n",
              "      <td>1</td>\n",
              "      <td>0</td>\n",
              "      <td>2</td>\n",
              "      <td>273035227.0</td>\n",
              "      <td>28</td>\n",
              "    </tr>\n",
              "    <tr>\n",
              "      <th>1689894</th>\n",
              "      <td>1710014</td>\n",
              "      <td>2015</td>\n",
              "      <td>199</td>\n",
              "      <td>12</td>\n",
              "      <td>0.041667</td>\n",
              "      <td>1</td>\n",
              "      <td>0</td>\n",
              "      <td>2</td>\n",
              "      <td>37081927.0</td>\n",
              "      <td>28</td>\n",
              "    </tr>\n",
              "    <tr>\n",
              "      <th>1158069</th>\n",
              "      <td>1531103</td>\n",
              "      <td>2014</td>\n",
              "      <td>32</td>\n",
              "      <td>0</td>\n",
              "      <td>1.000000</td>\n",
              "      <td>1</td>\n",
              "      <td>0</td>\n",
              "      <td>2</td>\n",
              "      <td>62731414.0</td>\n",
              "      <td>28</td>\n",
              "    </tr>\n",
              "    <tr>\n",
              "      <th>2705260</th>\n",
              "      <td>944344</td>\n",
              "      <td>2018</td>\n",
              "      <td>119</td>\n",
              "      <td>0</td>\n",
              "      <td>0.076923</td>\n",
              "      <td>1</td>\n",
              "      <td>0</td>\n",
              "      <td>2</td>\n",
              "      <td>150000000.0</td>\n",
              "      <td>28</td>\n",
              "    </tr>\n",
              "    <tr>\n",
              "      <th>2361824</th>\n",
              "      <td>1326650</td>\n",
              "      <td>2017</td>\n",
              "      <td>141</td>\n",
              "      <td>6</td>\n",
              "      <td>0.125000</td>\n",
              "      <td>1</td>\n",
              "      <td>0</td>\n",
              "      <td>2</td>\n",
              "      <td>98834702.0</td>\n",
              "      <td>28</td>\n",
              "    </tr>\n",
              "  </tbody>\n",
              "</table>\n",
              "</div>"
            ],
            "text/plain": [
              "         address  year  day  length  ...  looped  neighbors       income  label\n",
              "2285858   808373  2017   65      28  ...       0          2  273035227.0     28\n",
              "1689894  1710014  2015  199      12  ...       0          2   37081927.0     28\n",
              "1158069  1531103  2014   32       0  ...       0          2   62731414.0     28\n",
              "2705260   944344  2018  119       0  ...       0          2  150000000.0     28\n",
              "2361824  1326650  2017  141       6  ...       0          2   98834702.0     28\n",
              "\n",
              "[5 rows x 10 columns]"
            ]
          },
          "execution_count": 77,
          "metadata": {
            "tags": []
          },
          "output_type": "execute_result"
        }
      ],
      "source": [
        "new_df.head()"
      ]
    },
    {
      "cell_type": "code",
      "execution_count": 73,
      "metadata": {
        "id": "C0XtoddblTEZ"
      },
      "outputs": [],
      "source": [
        "Y=new_df['label']\n",
        "X=new_df.drop('label',axis=1)"
      ]
    },
    {
      "cell_type": "code",
      "execution_count": 74,
      "metadata": {
        "colab": {
          "base_uri": "https://localhost:8080/",
          "height": 204
        },
        "id": "myTQfD1Cyfbo",
        "outputId": "c515db69-10a3-4e8d-b754-db36d11b6fa1"
      },
      "outputs": [
        {
          "data": {
            "text/html": [
              "<div>\n",
              "<style scoped>\n",
              "    .dataframe tbody tr th:only-of-type {\n",
              "        vertical-align: middle;\n",
              "    }\n",
              "\n",
              "    .dataframe tbody tr th {\n",
              "        vertical-align: top;\n",
              "    }\n",
              "\n",
              "    .dataframe thead th {\n",
              "        text-align: right;\n",
              "    }\n",
              "</style>\n",
              "<table border=\"1\" class=\"dataframe\">\n",
              "  <thead>\n",
              "    <tr style=\"text-align: right;\">\n",
              "      <th></th>\n",
              "      <th>address</th>\n",
              "      <th>year</th>\n",
              "      <th>day</th>\n",
              "      <th>length</th>\n",
              "      <th>weight</th>\n",
              "      <th>count</th>\n",
              "      <th>looped</th>\n",
              "      <th>neighbors</th>\n",
              "      <th>income</th>\n",
              "    </tr>\n",
              "  </thead>\n",
              "  <tbody>\n",
              "    <tr>\n",
              "      <th>2285858</th>\n",
              "      <td>808373</td>\n",
              "      <td>2017</td>\n",
              "      <td>65</td>\n",
              "      <td>28</td>\n",
              "      <td>0.001953</td>\n",
              "      <td>1</td>\n",
              "      <td>0</td>\n",
              "      <td>2</td>\n",
              "      <td>273035227.0</td>\n",
              "    </tr>\n",
              "    <tr>\n",
              "      <th>1689894</th>\n",
              "      <td>1710014</td>\n",
              "      <td>2015</td>\n",
              "      <td>199</td>\n",
              "      <td>12</td>\n",
              "      <td>0.041667</td>\n",
              "      <td>1</td>\n",
              "      <td>0</td>\n",
              "      <td>2</td>\n",
              "      <td>37081927.0</td>\n",
              "    </tr>\n",
              "    <tr>\n",
              "      <th>1158069</th>\n",
              "      <td>1531103</td>\n",
              "      <td>2014</td>\n",
              "      <td>32</td>\n",
              "      <td>0</td>\n",
              "      <td>1.000000</td>\n",
              "      <td>1</td>\n",
              "      <td>0</td>\n",
              "      <td>2</td>\n",
              "      <td>62731414.0</td>\n",
              "    </tr>\n",
              "    <tr>\n",
              "      <th>2705260</th>\n",
              "      <td>944344</td>\n",
              "      <td>2018</td>\n",
              "      <td>119</td>\n",
              "      <td>0</td>\n",
              "      <td>0.076923</td>\n",
              "      <td>1</td>\n",
              "      <td>0</td>\n",
              "      <td>2</td>\n",
              "      <td>150000000.0</td>\n",
              "    </tr>\n",
              "    <tr>\n",
              "      <th>2361824</th>\n",
              "      <td>1326650</td>\n",
              "      <td>2017</td>\n",
              "      <td>141</td>\n",
              "      <td>6</td>\n",
              "      <td>0.125000</td>\n",
              "      <td>1</td>\n",
              "      <td>0</td>\n",
              "      <td>2</td>\n",
              "      <td>98834702.0</td>\n",
              "    </tr>\n",
              "  </tbody>\n",
              "</table>\n",
              "</div>"
            ],
            "text/plain": [
              "         address  year  day  length  ...  count  looped  neighbors       income\n",
              "2285858   808373  2017   65      28  ...      1       0          2  273035227.0\n",
              "1689894  1710014  2015  199      12  ...      1       0          2   37081927.0\n",
              "1158069  1531103  2014   32       0  ...      1       0          2   62731414.0\n",
              "2705260   944344  2018  119       0  ...      1       0          2  150000000.0\n",
              "2361824  1326650  2017  141       6  ...      1       0          2   98834702.0\n",
              "\n",
              "[5 rows x 9 columns]"
            ]
          },
          "execution_count": 74,
          "metadata": {
            "tags": []
          },
          "output_type": "execute_result"
        }
      ],
      "source": [
        "X.head()"
      ]
    },
    {
      "cell_type": "code",
      "execution_count": 76,
      "metadata": {
        "colab": {
          "base_uri": "https://localhost:8080/"
        },
        "id": "S0CBWEmKGuZU",
        "outputId": "d19cd6fc-1096-4d00-8498-63bae0aef1a4"
      },
      "outputs": [
        {
          "data": {
            "text/plain": [
              "2285858    28\n",
              "1689894    28\n",
              "1158069    28\n",
              "2705260    28\n",
              "2361824    28\n",
              "Name: label, dtype: int64"
            ]
          },
          "execution_count": 76,
          "metadata": {
            "tags": []
          },
          "output_type": "execute_result"
        }
      ],
      "source": [
        "Y.head()"
      ]
    },
    {
      "cell_type": "code",
      "execution_count": 78,
      "metadata": {
        "id": "cLMI37RPlpK7"
      },
      "outputs": [],
      "source": [
        "X_train,X_test,y_train,y_test=train_test_split(X,Y,test_size=0.5,shuffle=False)"
      ]
    },
    {
      "cell_type": "code",
      "execution_count": 79,
      "metadata": {
        "id": "jy3b0tC6l6si"
      },
      "outputs": [],
      "source": [
        "from joblib import Parallel, delayed,dump\n",
        "# from sklearn.externals import joblib \n",
        "from sklearn.ensemble import RandomForestClassifier\n",
        "from sklearn.tree import DecisionTreeClassifier\n",
        "import pickle"
      ]
    },
    {
      "cell_type": "code",
      "execution_count": 80,
      "metadata": {
        "id": "J-MOQvSvnL8q"
      },
      "outputs": [],
      "source": [
        "model_rf=RandomForestClassifier(max_depth=2,random_state=42)\n",
        "model_dt=DecisionTreeClassifier(splitter=\"random\",max_depth=2,random_state=2,max_features=\"auto\")\n",
        "models=[]\n",
        "models.append(model_rf)\n",
        "models.append(model_dt)"
      ]
    },
    {
      "cell_type": "markdown",
      "metadata": {
        "id": "4SQTzr3aY2rn"
      },
      "source": [
        "TRAINING MODEL AND SAVING MODEL IN .PKL FILE"
      ]
    },
    {
      "cell_type": "code",
      "execution_count": 127,
      "metadata": {
        "id": "D0OQrWZCnf7X"
      },
      "outputs": [],
      "source": [
        "\n",
        "\n",
        "def train_model(X,y,model,count):\n",
        "  print('Executing model number',count)\n",
        "  output=model.fit(X,y)\n",
        "  # filename='./'+str(count)+'.pkl'\n",
        "  with gzip.open('./'+str(count)+'.pkl', 'wb') as ofp:\n",
        "    pickle.dump(output, ofp)\n",
        "  return output\n",
        "\n",
        "\n"
      ]
    },
    {
      "cell_type": "code",
      "execution_count": 128,
      "metadata": {
        "colab": {
          "base_uri": "https://localhost:8080/"
        },
        "id": "CQEF0GS2nXKQ",
        "outputId": "39ce5570-fc75-473a-d880-987a86478c1a"
      },
      "outputs": [
        {
          "name": "stdout",
          "output_type": "stream",
          "text": [
            "CPU times: user 158 ms, sys: 623 ms, total: 781 ms\n",
            "Wall time: 1min 35s\n"
          ]
        }
      ],
      "source": [
        "%%time\n",
        "\n",
        "result = Parallel(n_jobs=2)(delayed(train_model)(X_train, y_train, models[i],i) for i in range(len(models)))"
      ]
    },
    {
      "cell_type": "markdown",
      "metadata": {
        "id": "ozuU1SOJYv5A"
      },
      "source": [
        "LOADING MODEL IN PARALLLEL AND MAKING PREDICTION ON TEST SET"
      ]
    },
    {
      "cell_type": "code",
      "execution_count": 153,
      "metadata": {
        "id": "sL52dZ9touxz"
      },
      "outputs": [],
      "source": [
        "def test_model(X_test,y_test,model,model_count):\n",
        "\n",
        "  filename='/content/'+str(model_count)+'.pkl'\n",
        "  with gzip.open(filename, 'rb') as ifp:\n",
        "    loaded_model=pickle.load(ifp)\n",
        "    res=loaded_model.predict(X_test)\n",
        "  return res\n"
      ]
    },
    {
      "cell_type": "code",
      "execution_count": 155,
      "metadata": {
        "colab": {
          "base_uri": "https://localhost:8080/"
        },
        "id": "J90g-wU30dIk",
        "outputId": "228e01e0-8958-42cd-c07e-727f24dbd5b0"
      },
      "outputs": [
        {
          "name": "stdout",
          "output_type": "stream",
          "text": [
            "CPU times: user 112 ms, sys: 170 ms, total: 283 ms\n",
            "Wall time: 25.9 s\n"
          ]
        }
      ],
      "source": [
        "%%time\n",
        "\n",
        "result = Parallel(n_jobs=2)(delayed(test_model)(X_test, y_test, result[i],i) for i in range(len(models)))"
      ]
    },
    {
      "cell_type": "code",
      "execution_count": 166,
      "metadata": {
        "id": "eKT_OzIhNiYS"
      },
      "outputs": [],
      "source": [
        "result_df=pd.DataFrame({'RF':result[0],'DT':result[1]})"
      ]
    },
    {
      "cell_type": "code",
      "execution_count": 171,
      "metadata": {
        "id": "mGzYGWE6WpOI"
      },
      "outputs": [],
      "source": [
        "result_df['Average']=result_df.mean(axis=1)"
      ]
    },
    {
      "cell_type": "code",
      "execution_count": 172,
      "metadata": {
        "colab": {
          "base_uri": "https://localhost:8080/",
          "height": 419
        },
        "id": "tKldMPanVnGc",
        "outputId": "e0d2bfd9-b1ea-44d6-8f53-6cb7786c4b0d"
      },
      "outputs": [
        {
          "data": {
            "text/html": [
              "<div>\n",
              "<style scoped>\n",
              "    .dataframe tbody tr th:only-of-type {\n",
              "        vertical-align: middle;\n",
              "    }\n",
              "\n",
              "    .dataframe tbody tr th {\n",
              "        vertical-align: top;\n",
              "    }\n",
              "\n",
              "    .dataframe thead th {\n",
              "        text-align: right;\n",
              "    }\n",
              "</style>\n",
              "<table border=\"1\" class=\"dataframe\">\n",
              "  <thead>\n",
              "    <tr style=\"text-align: right;\">\n",
              "      <th></th>\n",
              "      <th>RF</th>\n",
              "      <th>DT</th>\n",
              "      <th>Average</th>\n",
              "    </tr>\n",
              "  </thead>\n",
              "  <tbody>\n",
              "    <tr>\n",
              "      <th>0</th>\n",
              "      <td>28</td>\n",
              "      <td>28</td>\n",
              "      <td>28.0</td>\n",
              "    </tr>\n",
              "    <tr>\n",
              "      <th>1</th>\n",
              "      <td>28</td>\n",
              "      <td>28</td>\n",
              "      <td>28.0</td>\n",
              "    </tr>\n",
              "    <tr>\n",
              "      <th>2</th>\n",
              "      <td>28</td>\n",
              "      <td>28</td>\n",
              "      <td>28.0</td>\n",
              "    </tr>\n",
              "    <tr>\n",
              "      <th>3</th>\n",
              "      <td>28</td>\n",
              "      <td>28</td>\n",
              "      <td>28.0</td>\n",
              "    </tr>\n",
              "    <tr>\n",
              "      <th>4</th>\n",
              "      <td>28</td>\n",
              "      <td>28</td>\n",
              "      <td>28.0</td>\n",
              "    </tr>\n",
              "    <tr>\n",
              "      <th>...</th>\n",
              "      <td>...</td>\n",
              "      <td>...</td>\n",
              "      <td>...</td>\n",
              "    </tr>\n",
              "    <tr>\n",
              "      <th>1458344</th>\n",
              "      <td>28</td>\n",
              "      <td>28</td>\n",
              "      <td>28.0</td>\n",
              "    </tr>\n",
              "    <tr>\n",
              "      <th>1458345</th>\n",
              "      <td>28</td>\n",
              "      <td>28</td>\n",
              "      <td>28.0</td>\n",
              "    </tr>\n",
              "    <tr>\n",
              "      <th>1458346</th>\n",
              "      <td>28</td>\n",
              "      <td>28</td>\n",
              "      <td>28.0</td>\n",
              "    </tr>\n",
              "    <tr>\n",
              "      <th>1458347</th>\n",
              "      <td>28</td>\n",
              "      <td>28</td>\n",
              "      <td>28.0</td>\n",
              "    </tr>\n",
              "    <tr>\n",
              "      <th>1458348</th>\n",
              "      <td>28</td>\n",
              "      <td>28</td>\n",
              "      <td>28.0</td>\n",
              "    </tr>\n",
              "  </tbody>\n",
              "</table>\n",
              "<p>1458349 rows × 3 columns</p>\n",
              "</div>"
            ],
            "text/plain": [
              "         RF  DT  Average\n",
              "0        28  28     28.0\n",
              "1        28  28     28.0\n",
              "2        28  28     28.0\n",
              "3        28  28     28.0\n",
              "4        28  28     28.0\n",
              "...      ..  ..      ...\n",
              "1458344  28  28     28.0\n",
              "1458345  28  28     28.0\n",
              "1458346  28  28     28.0\n",
              "1458347  28  28     28.0\n",
              "1458348  28  28     28.0\n",
              "\n",
              "[1458349 rows x 3 columns]"
            ]
          },
          "execution_count": 172,
          "metadata": {
            "tags": []
          },
          "output_type": "execute_result"
        }
      ],
      "source": [
        "result_df "
      ]
    },
    {
      "cell_type": "code",
      "execution_count": null,
      "metadata": {
        "id": "DldvrMe6X1ms"
      },
      "outputs": [],
      "source": []
    }
  ],
  "metadata": {
    "colab": {
      "name": "E18CSE010_LAB3.ipynb",
      "provenance": []
    },
    "kernelspec": {
      "display_name": "Python 3.7.0 64-bit",
      "language": "python",
      "name": "python3"
    },
    "language_info": {
      "name": "python",
      "version": "3.7.0"
    },
    "vscode": {
      "interpreter": {
        "hash": "e534e48711db4d1e1c48977d0d14ff85b1f16d41bcc4fdfd88268a329b3c9d66"
      }
    }
  },
  "nbformat": 4,
  "nbformat_minor": 0
}
