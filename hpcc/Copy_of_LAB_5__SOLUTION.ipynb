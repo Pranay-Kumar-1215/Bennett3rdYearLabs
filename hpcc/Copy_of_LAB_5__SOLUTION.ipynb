{
  "cells": [
    {
      "cell_type": "code",
      "execution_count": 1,
      "metadata": {
        "colab": {
          "base_uri": "https://localhost:8080/"
        },
        "id": "eODehswFkCPP",
        "outputId": "2f182bd1-9977-437b-a2b5-7599ca583f2c"
      },
      "outputs": [
        {
          "name": "stdout",
          "output_type": "stream",
          "text": [
            "Requirement already satisfied: pymp-pypi in /Library/Frameworks/Python.framework/Versions/3.7/lib/python3.7/site-packages (0.5.0)\n"
          ]
        }
      ],
      "source": [
        "!pip install pymp-pypi"
      ]
    },
    {
      "cell_type": "code",
      "execution_count": 2,
      "metadata": {
        "id": "9-WUWCxfsKuW"
      },
      "outputs": [],
      "source": [
        "from __future__ import print_function\n",
        "\n",
        "import pymp\n",
        "import random\n",
        "import numpy as np\n",
        "import time\n",
        "from sympy import isprime\n"
      ]
    },
    {
      "cell_type": "markdown",
      "metadata": {
        "id": "myBGIJGsyrBX"
      },
      "source": [
        "Linear Search"
      ]
    },
    {
      "cell_type": "code",
      "execution_count": 3,
      "metadata": {
        "colab": {
          "base_uri": "https://localhost:8080/"
        },
        "id": "zmClhMWAkypr",
        "outputId": "0cebeb25-33c4-47f0-c059-e17191c9b274"
      },
      "outputs": [
        {
          "name": "stdout",
          "output_type": "stream",
          "text": [
            "7\n"
          ]
        }
      ],
      "source": [
        "#%%timeit\n",
        "def linearsearch(arr,search_var):\n",
        "  return sum(arr[i] == search_var for i in range(len(arr)))\n",
        "\n",
        "number_to_search=5\n",
        "\n",
        "input_array = [random.randint(1,10) for _ in range(100)]\n",
        "array_len=len(input_array)\n",
        "\n",
        "\n",
        "count = linearsearch(input_array,number_to_search) \n",
        "\n",
        "print(count)"
      ]
    },
    {
      "cell_type": "code",
      "execution_count": 4,
      "metadata": {
        "colab": {
          "base_uri": "https://localhost:8080/"
        },
        "id": "HBGQrk4HkbEb",
        "outputId": "73fdade5-4732-41d4-9ec3-0d908f2f8569"
      },
      "outputs": [
        {
          "name": "stdout",
          "output_type": "stream",
          "text": [
            "2\n"
          ]
        }
      ],
      "source": [
        "\n",
        "\n",
        "number_to_search=5\n",
        "array_len=100\n",
        "\n",
        "ex_array = pymp.shared.array((array_len,), dtype='uint8')\n",
        "for index in range(array_len):\n",
        "  ex_array[index] = random.randint(1,10)\n",
        "\n",
        "count = 0\n",
        "\n",
        "with pymp.Parallel(4) as p:\n",
        "  for index in p.range(0,array_len):\n",
        "    if ex_array[index]==number_to_search:\n",
        "      count+=1\n",
        "\n",
        "print(count)"
      ]
    },
    {
      "cell_type": "markdown",
      "metadata": {
        "id": "ognEUJ_Fyojz"
      },
      "source": [
        "Check Prime Number"
      ]
    },
    {
      "cell_type": "code",
      "execution_count": 5,
      "metadata": {
        "colab": {
          "base_uri": "https://localhost:8080/"
        },
        "id": "T-ik9nwYslcm",
        "outputId": "1caaa30e-4ca2-41b3-d19d-f43a432f7e38"
      },
      "outputs": [
        {
          "name": "stdout",
          "output_type": "stream",
          "text": [
            "CPU times: user 2.56 ms, sys: 830 µs, total: 3.39 ms\n",
            "Wall time: 3.01 ms\n"
          ]
        }
      ],
      "source": [
        "%%time\n",
        "arr_len=1000\n",
        "\n",
        "data=pymp.shared.array((arr_len,),dtype='uint8')\n",
        "res=pymp.shared.array((1,),dtype='uint8')\n",
        "\n",
        "def isPrime(n): \n",
        "\tif (n <= 1) : \n",
        "\t\treturn False\n",
        "\tif (n <= 3) : \n",
        "\t\treturn True\n",
        "\tif (n % 2 == 0 or n % 3 == 0) : \n",
        "\t\treturn False\n",
        "\ti = 5\n",
        "\twhile i**2 <= n: \n",
        "\t\tif (n % i == 0 or n % (i + 2) == 0) : \n",
        "\t\t\treturn False\n",
        "\t\ti += 6\n",
        "\n",
        "\treturn True\n",
        "\n",
        "def check_prime(arr):\n",
        "  res_s=[]\n",
        "  for i in arr:\n",
        "    if isPrime(i):\n",
        "      res_s.append(True)\n",
        "    else:\n",
        "      res_s.append(False)\n",
        "  return res_s\n",
        "\n",
        "\n",
        "\n",
        "      \n",
        "res_seq=check_prime(data)"
      ]
    },
    {
      "cell_type": "code",
      "execution_count": 6,
      "metadata": {
        "colab": {
          "base_uri": "https://localhost:8080/"
        },
        "id": "DwoqDj0_yRxR",
        "outputId": "5dcd2c7b-8d2e-4748-9e7b-9879f9bda7aa"
      },
      "outputs": [],
      "source": [
        "\n",
        "\n",
        "for i in range(arr_len):\n",
        "  data[i]=random.randint(0,9)\n",
        "\n",
        "with pymp.Parallel(4) as p:\n",
        "  for index in p.range(arr_len):\n",
        "    if isPrime(data[index])==True:\n",
        "      res=np.append(res,np.array([True]))\n",
        "    else:\n",
        "      res=np.append(res,np.array([False]))"
      ]
    },
    {
      "cell_type": "markdown",
      "metadata": {
        "id": "KyfWNw2UziDP"
      },
      "source": [
        "Matrix Multiplication"
      ]
    },
    {
      "cell_type": "code",
      "execution_count": 7,
      "metadata": {
        "colab": {
          "base_uri": "https://localhost:8080/"
        },
        "id": "dR20iwpqzoi5",
        "outputId": "7be8aa25-c3ef-406c-9cee-ca307236760b"
      },
      "outputs": [],
      "source": [
        "\n",
        "size = 99\n",
        "mat1 = np.random.randint(1,100000,(size,size))\n",
        "mat2 = np.random.randint(1,100000,(size,size))\n",
        "\n",
        "\n",
        "res = [[0 for _ in range(mat1.shape[0])] for _ in range(mat2.shape[0])]  \n",
        "\n",
        "for i in range(len(mat1)): \n",
        "    for j in range(len(mat2[0])): \n",
        "        for k in range(len(mat2)): \n",
        "\n",
        "            res[i][j] += mat1[i][k] * mat2[k][j] \n"
      ]
    },
    {
      "cell_type": "code",
      "execution_count": 8,
      "metadata": {
        "colab": {
          "base_uri": "https://localhost:8080/"
        },
        "id": "w12wK3pfyeH7",
        "outputId": "0d081f86-224c-4e3c-eeec-1a87d959ffe8"
      },
      "outputs": [
        {
          "name": "stdout",
          "output_type": "stream",
          "text": [
            "1.2375049591064453\n",
            "0.37471699714660645\n",
            "0.13127613067626953\n"
          ]
        }
      ],
      "source": [
        "\n",
        "import itertools\n",
        "ex_array = pymp.shared.array((mat1.shape[0],mat1.shape[0]), dtype='uint8')\n",
        "for index, j in itertools.product(range(mat1.shape[0]), range(mat2.shape[0])):\n",
        "  ex_array[index][j] = 0\n",
        "start = time.time()\n",
        "\n",
        "# parallelize only the outer layer of loop\n",
        "with pymp.Parallel(4) as p:\n",
        "  for i in p.range(len(mat1)):\n",
        "    for j in range(len(mat2[0])): \n",
        "      for k in range(len(mat2)): \n",
        "        ex_array[i][j] += mat1[i][k] * mat2[k][j]\n",
        "print(time.time()-start)\n",
        "\n",
        "start = time.time()\n",
        "\n",
        "with pymp.Parallel(4) as p:\n",
        "  for i in p.range(len(mat1)): \n",
        "    for j in p.range(len(mat2[0])): \n",
        "      for k in range(len(mat2)): \n",
        "        ex_array[i][j] += mat1[i][k] * mat2[k][j]\n",
        "print(time.time()-start)\n",
        "start = time.time()\n",
        "\n",
        "with pymp.Parallel(4) as p:\n",
        "  for i in p.range(len(mat1)): \n",
        "    for j in p.range(len(mat2[0])): \n",
        "      for k in p.range(len(mat2)): \n",
        "        ex_array[i][j] += mat1[i][k] * mat2[k][j]\n",
        "print(time.time()-start)\n",
        "\n",
        "# print(ex_array.shape)\n",
        "# with pymp.Parallel(4) as p:\n",
        "#   for index in p.range(mat1.shape[0]):\n",
        "#     if ex_array[index]==number_to_search:\n",
        "#       count+=1\n",
        "\n",
        "# Complete the pymp parallel code here\n",
        "# If there are nested for loops, parallelize \n",
        "# 1. Only outer loop \n",
        "# 2. Only inner loop and \n",
        "# 3. All loops. \n",
        "# Finally, analyze the time taken by different parallelization settings."
      ]
    },
    {
      "cell_type": "markdown",
      "metadata": {
        "id": "MmnWqG_x-PTr"
      },
      "source": [
        "Check Prime Number in PowerSet\n"
      ]
    },
    {
      "cell_type": "code",
      "execution_count": 9,
      "metadata": {
        "id": "QZnnqfQDztyJ"
      },
      "outputs": [],
      "source": [
        "def powerset(s):\n",
        "  x = len(s)\n",
        "  p_list=[]\n",
        "  for i in range(1 << x):\n",
        "    p_list.append([s[j] for j in range(x) if (i & (1 << j))])\n",
        "  return p_list\n",
        "powerset_list=powerset([i for i in range(1,25)])\n"
      ]
    },
    {
      "cell_type": "code",
      "execution_count": 10,
      "metadata": {
        "id": "c0gZ7XIw_CWZ"
      },
      "outputs": [],
      "source": [
        "def checkprime(arr):\n",
        "  arrsum=0\n",
        "  res=[]\n",
        "  for i in arr:\n",
        "      res.append(isprime(sum(i)))\n",
        "  return res\n",
        "\n",
        "\n",
        "\n"
      ]
    },
    {
      "cell_type": "code",
      "execution_count": 11,
      "metadata": {
        "colab": {
          "base_uri": "https://localhost:8080/"
        },
        "id": "tOjRCYtB_OOT",
        "outputId": "e7193d5a-b4e6-42dd-c721-a89cdbff5b1b"
      },
      "outputs": [
        {
          "name": "stdout",
          "output_type": "stream",
          "text": [
            "Single process takes  21.526139974594116\n"
          ]
        }
      ],
      "source": [
        "start=time.time()\n",
        "single_process_res=checkprime(powerset_list)\n",
        "print('Single process takes ',time.time()-start)\n"
      ]
    },
    {
      "cell_type": "code",
      "execution_count": 13,
      "metadata": {
        "colab": {
          "base_uri": "https://localhost:8080/"
        },
        "id": "wzngFe8J_MWS",
        "outputId": "3e26494e-74e5-4193-f48b-e6d4192785f4"
      },
      "outputs": [
        {
          "name": "stdout",
          "output_type": "stream",
          "text": [
            "Parallel Process takes  10.542746782302856\n"
          ]
        }
      ],
      "source": [
        "len_list=len(powerset_list)\n",
        "ex_array = pymp.shared.array((len_list), dtype='uint8')\n",
        "for index in range(len_list):\n",
        "    ex_array[index] = False\n",
        "    \n",
        "start=time.time()\n",
        "\n",
        "with pymp.Parallel(4) as p:\n",
        "        # ex_array[i]=isprime(sum(powerset_list[i]))\n",
        "    for i in p.range(len_list):\n",
        "        if isprime(sum(powerset_list[i])):\n",
        "            ex_array[i]=True\n",
        "        else:\n",
        "            ex_array[i]=False\n",
        "            \n",
        "\n",
        "print('Parallel Process takes ',time.time()-start)\n"
      ]
    },
    {
      "cell_type": "code",
      "execution_count": null,
      "metadata": {
        "id": "xj4GGR_WBUvX"
      },
      "outputs": [],
      "source": []
    }
  ],
  "metadata": {
    "colab": {
      "collapsed_sections": [],
      "provenance": []
    },
    "kernelspec": {
      "display_name": "Python 3.7.0 64-bit",
      "language": "python",
      "name": "python3"
    },
    "language_info": {
      "codemirror_mode": {
        "name": "ipython",
        "version": 3
      },
      "file_extension": ".py",
      "mimetype": "text/x-python",
      "name": "python",
      "nbconvert_exporter": "python",
      "pygments_lexer": "ipython3",
      "version": "3.7.0"
    },
    "vscode": {
      "interpreter": {
        "hash": "e534e48711db4d1e1c48977d0d14ff85b1f16d41bcc4fdfd88268a329b3c9d66"
      }
    }
  },
  "nbformat": 4,
  "nbformat_minor": 0
}
