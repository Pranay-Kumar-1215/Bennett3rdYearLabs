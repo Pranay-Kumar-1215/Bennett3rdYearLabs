{
 "cells": [
  {
   "cell_type": "code",
   "execution_count": 3,
   "metadata": {},
   "outputs": [],
   "source": [
    "X = list(range(1,10))"
   ]
  },
  {
   "cell_type": "code",
   "execution_count": null,
   "metadata": {},
   "outputs": [],
   "source": [
    "from itertools import chain, combinations\n",
    "\n",
    "def powerset(X):\n",
    "    s = list(X)\n",
    "    return chain.from_iterable(combinations(s, r) for r in range(len(s)+1))\n",
    "Y = list(powerset(X))\n",
    "Y"
   ]
  },
  {
   "cell_type": "code",
   "execution_count": 5,
   "metadata": {},
   "outputs": [
    {
     "name": "stdout",
     "output_type": "stream",
     "text": [
      "Collecting sympy\n",
      "  Downloading sympy-1.10.1-py3-none-any.whl (6.4 MB)\n",
      "\u001b[2K     \u001b[90m━━━━━━━━━━━━━━━━━━━━━━━━━━━━━━━━━━━━━━━━\u001b[0m \u001b[32m6.4/6.4 MB\u001b[0m \u001b[31m994.6 kB/s\u001b[0m eta \u001b[36m0:00:00\u001b[0m:00:01\u001b[0m01\u001b[0m0mm\n",
      "\u001b[?25hCollecting mpmath>=0.19\n",
      "  Downloading mpmath-1.2.1-py3-none-any.whl (532 kB)\n",
      "\u001b[2K     \u001b[90m━━━━━━━━━━━━━━━━━━━━━━━━━━━━━━━━━━━━━\u001b[0m \u001b[32m532.6/532.6 kB\u001b[0m \u001b[31m967.5 kB/s\u001b[0m eta \u001b[36m0:00:00\u001b[0m00:01\u001b[0m00:01\u001b[0m\n",
      "\u001b[?25hInstalling collected packages: mpmath, sympy\n",
      "Successfully installed mpmath-1.2.1 sympy-1.10.1\n"
     ]
    }
   ],
   "source": [
    "!pip install sympy"
   ]
  },
  {
   "cell_type": "code",
   "execution_count": 18,
   "metadata": {},
   "outputs": [
    {
     "name": "stdout",
     "output_type": "stream",
     "text": [
      "0.0008020401000976562\n"
     ]
    },
    {
     "data": {
      "text/plain": [
       "[(2,),\n",
       " (3,),\n",
       " (5,),\n",
       " (7,),\n",
       " (1, 2),\n",
       " (1, 4),\n",
       " (1, 6),\n",
       " (2, 3),\n",
       " (2, 5),\n",
       " (2, 9),\n",
       " (3, 4),\n",
       " (3, 8),\n",
       " (4, 7),\n",
       " (4, 9),\n",
       " (5, 6),\n",
       " (5, 8),\n",
       " (6, 7),\n",
       " (8, 9),\n",
       " (1, 2, 4),\n",
       " (1, 2, 8),\n",
       " (1, 3, 7),\n",
       " (1, 3, 9),\n",
       " (1, 4, 6),\n",
       " (1, 4, 8),\n",
       " (1, 5, 7),\n",
       " (1, 7, 9),\n",
       " (2, 3, 6),\n",
       " (2, 3, 8),\n",
       " (2, 4, 5),\n",
       " (2, 4, 7),\n",
       " (2, 5, 6),\n",
       " (2, 6, 9),\n",
       " (2, 7, 8),\n",
       " (2, 8, 9),\n",
       " (3, 4, 6),\n",
       " (3, 5, 9),\n",
       " (3, 6, 8),\n",
       " (3, 7, 9),\n",
       " (4, 5, 8),\n",
       " (4, 6, 7),\n",
       " (4, 6, 9),\n",
       " (4, 7, 8),\n",
       " (5, 6, 8),\n",
       " (6, 8, 9),\n",
       " (1, 2, 3, 5),\n",
       " (1, 2, 3, 7),\n",
       " (1, 2, 4, 6),\n",
       " (1, 2, 5, 9),\n",
       " (1, 2, 6, 8),\n",
       " (1, 2, 7, 9),\n",
       " (1, 3, 4, 5),\n",
       " (1, 3, 4, 9),\n",
       " (1, 3, 5, 8),\n",
       " (1, 3, 6, 7),\n",
       " (1, 3, 6, 9),\n",
       " (1, 3, 7, 8),\n",
       " (1, 4, 5, 7),\n",
       " (1, 4, 5, 9),\n",
       " (1, 4, 6, 8),\n",
       " (1, 5, 6, 7),\n",
       " (1, 5, 8, 9),\n",
       " (1, 6, 7, 9),\n",
       " (2, 3, 4, 8),\n",
       " (2, 3, 5, 7),\n",
       " (2, 3, 5, 9),\n",
       " (2, 3, 6, 8),\n",
       " (2, 4, 5, 6),\n",
       " (2, 4, 5, 8),\n",
       " (2, 4, 6, 7),\n",
       " (2, 4, 8, 9),\n",
       " (2, 5, 7, 9),\n",
       " (2, 6, 7, 8),\n",
       " (3, 4, 5, 7),\n",
       " (3, 4, 7, 9),\n",
       " (3, 5, 6, 9),\n",
       " (3, 5, 7, 8),\n",
       " (4, 5, 6, 8),\n",
       " (5, 7, 8, 9),\n",
       " (1, 2, 3, 4, 7),\n",
       " (1, 2, 3, 4, 9),\n",
       " (1, 2, 3, 5, 6),\n",
       " (1, 2, 3, 5, 8),\n",
       " (1, 2, 3, 6, 7),\n",
       " (1, 2, 3, 8, 9),\n",
       " (1, 2, 4, 5, 7),\n",
       " (1, 2, 4, 7, 9),\n",
       " (1, 2, 5, 6, 9),\n",
       " (1, 2, 5, 7, 8),\n",
       " (1, 3, 4, 5, 6),\n",
       " (1, 3, 4, 6, 9),\n",
       " (1, 3, 4, 7, 8),\n",
       " (1, 3, 5, 6, 8),\n",
       " (1, 4, 5, 6, 7),\n",
       " (1, 4, 7, 8, 9),\n",
       " (1, 5, 6, 8, 9),\n",
       " (1, 6, 7, 8, 9),\n",
       " (2, 3, 4, 5, 9),\n",
       " (2, 3, 4, 6, 8),\n",
       " (2, 3, 5, 6, 7),\n",
       " (2, 3, 7, 8, 9),\n",
       " (2, 4, 6, 8, 9),\n",
       " (2, 5, 6, 7, 9),\n",
       " (2, 5, 7, 8, 9),\n",
       " (3, 4, 5, 8, 9),\n",
       " (3, 4, 6, 7, 9),\n",
       " (3, 4, 7, 8, 9),\n",
       " (3, 5, 6, 7, 8),\n",
       " (3, 5, 6, 8, 9),\n",
       " (4, 5, 6, 7, 9),\n",
       " (1, 2, 3, 4, 5, 8),\n",
       " (1, 2, 3, 4, 6, 7),\n",
       " (1, 2, 3, 6, 8, 9),\n",
       " (1, 2, 4, 5, 8, 9),\n",
       " (1, 2, 4, 6, 7, 9),\n",
       " (1, 2, 4, 7, 8, 9),\n",
       " (1, 2, 5, 6, 7, 8),\n",
       " (1, 2, 5, 6, 8, 9),\n",
       " (1, 3, 4, 5, 7, 9),\n",
       " (1, 3, 4, 6, 7, 8),\n",
       " (1, 3, 4, 6, 8, 9),\n",
       " (1, 3, 5, 6, 7, 9),\n",
       " (1, 4, 5, 6, 7, 8),\n",
       " (2, 3, 4, 5, 6, 9),\n",
       " (2, 3, 4, 5, 7, 8),\n",
       " (2, 3, 4, 5, 8, 9),\n",
       " (2, 3, 4, 6, 7, 9),\n",
       " (2, 3, 5, 6, 7, 8),\n",
       " (2, 5, 6, 7, 8, 9),\n",
       " (3, 4, 6, 7, 8, 9),\n",
       " (1, 2, 3, 4, 5, 6, 8),\n",
       " (1, 2, 3, 4, 5, 7, 9),\n",
       " (1, 2, 3, 4, 6, 7, 8),\n",
       " (1, 2, 4, 6, 7, 8, 9),\n",
       " (1, 3, 4, 5, 7, 8, 9),\n",
       " (2, 3, 4, 5, 6, 8, 9),\n",
       " (2, 4, 5, 6, 7, 8, 9),\n",
       " (1, 2, 3, 4, 5, 6, 7, 9),\n",
       " (1, 2, 3, 5, 6, 7, 8, 9),\n",
       " (1, 3, 4, 5, 6, 7, 8, 9)]"
      ]
     },
     "execution_count": 18,
     "metadata": {},
     "output_type": "execute_result"
    }
   ],
   "source": [
    "import time\n",
    "from sympy import isprime\n",
    "# find all the elements in Y that are prime\n",
    "start = time.time()\n",
    "ans = [x for x in Y if isprime(sum(x))]\n",
    "end = time.time()\n",
    "print(end-start)\n",
    "ans"
   ]
  },
  {
   "cell_type": "code",
   "execution_count": 17,
   "metadata": {},
   "outputs": [
    {
     "name": "stdout",
     "output_type": "stream",
     "text": [
      "[128, 128, 128, 128]\n",
      "0.008133888244628906\n",
      "[[(2,), (3,), (5,), (7,), (1, 2), (1, 4), (1, 6), (2, 3), (2, 5), (2, 9), (3, 4), (3, 8), (4, 7), (4, 9), (5, 6), (5, 8), (6, 7), (8, 9), (1, 2, 4), (1, 2, 8), (1, 3, 7), (1, 3, 9), (1, 4, 6), (1, 4, 8), (1, 5, 7), (1, 7, 9), (2, 3, 6), (2, 3, 8), (2, 4, 5), (2, 4, 7), (2, 5, 6), (2, 6, 9), (2, 7, 8), (2, 8, 9), (3, 4, 6), (3, 5, 9), (3, 6, 8), (3, 7, 9), (4, 5, 8), (4, 6, 7), (4, 6, 9), (4, 7, 8), (5, 6, 8)], [(6, 8, 9), (1, 2, 3, 5), (1, 2, 3, 7), (1, 2, 4, 6), (1, 2, 5, 9), (1, 2, 6, 8), (1, 2, 7, 9), (1, 3, 4, 5), (1, 3, 4, 9), (1, 3, 5, 8), (1, 3, 6, 7), (1, 3, 6, 9), (1, 3, 7, 8), (1, 4, 5, 7), (1, 4, 5, 9), (1, 4, 6, 8), (1, 5, 6, 7), (1, 5, 8, 9), (1, 6, 7, 9), (2, 3, 4, 8), (2, 3, 5, 7), (2, 3, 5, 9), (2, 3, 6, 8), (2, 4, 5, 6), (2, 4, 5, 8), (2, 4, 6, 7), (2, 4, 8, 9), (2, 5, 7, 9), (2, 6, 7, 8), (3, 4, 5, 7), (3, 4, 7, 9), (3, 5, 6, 9), (3, 5, 7, 8), (4, 5, 6, 8), (5, 7, 8, 9)], [(1, 2, 3, 4, 7), (1, 2, 3, 4, 9), (1, 2, 3, 5, 6), (1, 2, 3, 5, 8), (1, 2, 3, 6, 7), (1, 2, 3, 8, 9), (1, 2, 4, 5, 7), (1, 2, 4, 7, 9), (1, 2, 5, 6, 9), (1, 2, 5, 7, 8), (1, 3, 4, 5, 6), (1, 3, 4, 6, 9), (1, 3, 4, 7, 8), (1, 3, 5, 6, 8), (1, 4, 5, 6, 7), (1, 4, 7, 8, 9), (1, 5, 6, 8, 9), (1, 6, 7, 8, 9), (2, 3, 4, 5, 9), (2, 3, 4, 6, 8), (2, 3, 5, 6, 7), (2, 3, 7, 8, 9), (2, 4, 6, 8, 9), (2, 5, 6, 7, 9), (2, 5, 7, 8, 9), (3, 4, 5, 8, 9), (3, 4, 6, 7, 9), (3, 4, 7, 8, 9), (3, 5, 6, 7, 8), (3, 5, 6, 8, 9), (4, 5, 6, 7, 9)], [(1, 2, 3, 4, 5, 8), (1, 2, 3, 4, 6, 7), (1, 2, 3, 6, 8, 9), (1, 2, 4, 5, 8, 9), (1, 2, 4, 6, 7, 9), (1, 2, 4, 7, 8, 9), (1, 2, 5, 6, 7, 8), (1, 2, 5, 6, 8, 9), (1, 3, 4, 5, 7, 9), (1, 3, 4, 6, 7, 8), (1, 3, 4, 6, 8, 9), (1, 3, 5, 6, 7, 9), (1, 4, 5, 6, 7, 8), (2, 3, 4, 5, 6, 9), (2, 3, 4, 5, 7, 8), (2, 3, 4, 5, 8, 9), (2, 3, 4, 6, 7, 9), (2, 3, 5, 6, 7, 8), (2, 5, 6, 7, 8, 9), (3, 4, 6, 7, 8, 9), (1, 2, 3, 4, 5, 6, 8), (1, 2, 3, 4, 5, 7, 9), (1, 2, 3, 4, 6, 7, 8), (1, 2, 4, 6, 7, 8, 9), (1, 3, 4, 5, 7, 8, 9), (2, 3, 4, 5, 6, 8, 9), (2, 4, 5, 6, 7, 8, 9), (1, 2, 3, 4, 5, 6, 7, 9), (1, 2, 3, 5, 6, 7, 8, 9), (1, 3, 4, 5, 6, 7, 8, 9)]]\n"
     ]
    }
   ],
   "source": [
    "#divide Y into 4 parts and use multiprocessing to find the prime numbers in each part\n",
    "from multiprocessing import Process\n",
    "import multiprocessing\n",
    "import time\n",
    "\n",
    "def make_process(part):\n",
    "    return [i for i in part if isprime(sum(i))]\n",
    "    \n",
    "parts_length = len(Y)//4\n",
    "parts = [Y[i:i+parts_length] for i in range(0, len(Y), parts_length)]\n",
    "print([len(part) for part in parts])\n",
    "pp = multiprocessing.Pool(processes=4)\n",
    "start = time.time()\n",
    "result = pp.map(make_process, parts)\n",
    "end = time.time()\n",
    "print(end-start)\n",
    "print(result)\n"
   ]
  },
  {
   "cell_type": "code",
   "execution_count": null,
   "metadata": {},
   "outputs": [],
   "source": []
  },
  {
   "cell_type": "markdown",
   "metadata": {},
   "source": [
    "### Question 2"
   ]
  },
  {
   "cell_type": "code",
   "execution_count": 21,
   "metadata": {},
   "outputs": [],
   "source": [
    "words = []\n",
    "with open('words.txt','r') as f:\n",
    "    words = f.read()\n",
    "  "
   ]
  },
  {
   "cell_type": "code",
   "execution_count": 25,
   "metadata": {},
   "outputs": [
    {
     "name": "stdout",
     "output_type": "stream",
     "text": [
      "0.24521994590759277\n"
     ]
    }
   ],
   "source": [
    "def check_palindrome(word):\n",
    "    return word == word[::-1]\n",
    "\n",
    "start = time.time()\n",
    "L = [word for word in words.split('\\n') if check_palindrome(word)]\n",
    "end = time.time()\n",
    "print(end-start)"
   ]
  },
  {
   "cell_type": "code",
   "execution_count": 26,
   "metadata": {},
   "outputs": [
    {
     "name": "stdout",
     "output_type": "stream",
     "text": [
      "0.00038313865661621094\n"
     ]
    }
   ],
   "source": [
    "from multiprocessing.dummy import Pool\n",
    "\n",
    "parts = [L[i:i+len(L)//4] for i in range(0, len(L), len(L)//4)]\n",
    "pool = Pool(processes=4)\n",
    "start = time.time()\n",
    "results = pool.map(check_palindrome, parts)\n",
    "end = time.time()\n",
    "print(end-start)\n"
   ]
  },
  {
   "cell_type": "markdown",
   "metadata": {},
   "source": [
    "### Question 3"
   ]
  },
  {
   "cell_type": "code",
   "execution_count": 28,
   "metadata": {},
   "outputs": [
    {
     "data": {
      "text/plain": [
       "array([[[ 17,  34,  54],\n",
       "        [ 22,  35,  54],\n",
       "        [ 28,  34,  56],\n",
       "        ...,\n",
       "        [130, 114,  78],\n",
       "        [131, 115,  79],\n",
       "        [131, 115,  79]],\n",
       "\n",
       "       [[ 15,  34,  51],\n",
       "        [ 18,  35,  53],\n",
       "        [ 27,  35,  54],\n",
       "        ...,\n",
       "        [130, 112,  76],\n",
       "        [129, 113,  77],\n",
       "        [132, 114,  78]],\n",
       "\n",
       "       [[ 11,  38,  49],\n",
       "        [ 14,  36,  49],\n",
       "        [ 21,  37,  50],\n",
       "        ...,\n",
       "        [128, 108,  71],\n",
       "        [129, 111,  73],\n",
       "        [132, 112,  75]],\n",
       "\n",
       "       ...,\n",
       "\n",
       "       [[  3,   2,   7],\n",
       "        [  3,   2,   7],\n",
       "        [  3,   2,   8],\n",
       "        ...,\n",
       "        [ 14,  12,  17],\n",
       "        [ 10,   9,  14],\n",
       "        [ 11,  10,  15]],\n",
       "\n",
       "       [[  3,   2,   7],\n",
       "        [  3,   2,   7],\n",
       "        [  3,   2,   8],\n",
       "        ...,\n",
       "        [ 17,  15,  20],\n",
       "        [ 11,  10,  15],\n",
       "        [ 10,  10,  12]],\n",
       "\n",
       "       [[  4,   3,   8],\n",
       "        [  4,   3,   8],\n",
       "        [  3,   2,   8],\n",
       "        ...,\n",
       "        [ 17,  15,  20],\n",
       "        [ 12,  11,  16],\n",
       "        [ 10,  10,  12]]], dtype=uint8)"
      ]
     },
     "execution_count": 28,
     "metadata": {},
     "output_type": "execute_result"
    }
   ],
   "source": [
    "from PIL import Image\n",
    "from numpy import asarray\n",
    "\n",
    "donald = Image.open('donald.jpeg')\n",
    "donald_matrix = asarray(donald)\n",
    "donald_matrix"
   ]
  },
  {
   "cell_type": "code",
   "execution_count": 35,
   "metadata": {},
   "outputs": [],
   "source": [
    "#Create random convolution filters of size 10*10*3.\n",
    "import numpy as np\n",
    "def random_conv_filter():\n",
    "    return np.random.randn(10,10,3)\n",
    "rr = random_conv_filter()\n"
   ]
  },
  {
   "cell_type": "code",
   "execution_count": 34,
   "metadata": {},
   "outputs": [
    {
     "ename": "ValueError",
     "evalue": "operands could not be broadcast together with shapes (3000,2405,3) (10,10,3) ",
     "output_type": "error",
     "traceback": [
      "\u001b[0;31m---------------------------------------------------------------------------\u001b[0m",
      "\u001b[0;31mValueError\u001b[0m                                Traceback (most recent call last)",
      "\u001b[0;32m/var/folders/d0/ph7mblw52l1gb1c0yy_ld5hc0000gn/T/ipykernel_3110/3088476707.py\u001b[0m in \u001b[0;36m<module>\u001b[0;34m\u001b[0m\n\u001b[1;32m      2\u001b[0m \u001b[0;32mdef\u001b[0m \u001b[0mconvolve\u001b[0m\u001b[0;34m(\u001b[0m\u001b[0mimage\u001b[0m\u001b[0;34m,\u001b[0m \u001b[0mfilter\u001b[0m\u001b[0;34m)\u001b[0m\u001b[0;34m:\u001b[0m\u001b[0;34m\u001b[0m\u001b[0m\n\u001b[1;32m      3\u001b[0m     \u001b[0;32mreturn\u001b[0m \u001b[0mnp\u001b[0m\u001b[0;34m.\u001b[0m\u001b[0msum\u001b[0m\u001b[0;34m(\u001b[0m\u001b[0mimage\u001b[0m\u001b[0;34m*\u001b[0m\u001b[0mfilter\u001b[0m\u001b[0;34m,\u001b[0m \u001b[0maxis\u001b[0m\u001b[0;34m=\u001b[0m\u001b[0;34m(\u001b[0m\u001b[0;36m0\u001b[0m\u001b[0;34m,\u001b[0m\u001b[0;36m1\u001b[0m\u001b[0;34m)\u001b[0m\u001b[0;34m)\u001b[0m\u001b[0;34m\u001b[0m\u001b[0m\n\u001b[0;32m----> 4\u001b[0;31m \u001b[0mprint\u001b[0m\u001b[0;34m(\u001b[0m\u001b[0mconvolve\u001b[0m\u001b[0;34m(\u001b[0m\u001b[0mdonald_matrix\u001b[0m\u001b[0;34m,\u001b[0m \u001b[0mrr\u001b[0m\u001b[0;34m)\u001b[0m\u001b[0;34m)\u001b[0m\u001b[0;34m\u001b[0m\u001b[0m\n\u001b[0m",
      "\u001b[0;32m/var/folders/d0/ph7mblw52l1gb1c0yy_ld5hc0000gn/T/ipykernel_3110/3088476707.py\u001b[0m in \u001b[0;36mconvolve\u001b[0;34m(image, filter)\u001b[0m\n\u001b[1;32m      1\u001b[0m \u001b[0;31m#apply the filter to the image.\u001b[0m\u001b[0;34m\u001b[0m\u001b[0;34m\u001b[0m\u001b[0m\n\u001b[1;32m      2\u001b[0m \u001b[0;32mdef\u001b[0m \u001b[0mconvolve\u001b[0m\u001b[0;34m(\u001b[0m\u001b[0mimage\u001b[0m\u001b[0;34m,\u001b[0m \u001b[0mfilter\u001b[0m\u001b[0;34m)\u001b[0m\u001b[0;34m:\u001b[0m\u001b[0;34m\u001b[0m\u001b[0m\n\u001b[0;32m----> 3\u001b[0;31m     \u001b[0;32mreturn\u001b[0m \u001b[0mnp\u001b[0m\u001b[0;34m.\u001b[0m\u001b[0msum\u001b[0m\u001b[0;34m(\u001b[0m\u001b[0mimage\u001b[0m\u001b[0;34m*\u001b[0m\u001b[0mfilter\u001b[0m\u001b[0;34m,\u001b[0m \u001b[0maxis\u001b[0m\u001b[0;34m=\u001b[0m\u001b[0;34m(\u001b[0m\u001b[0;36m0\u001b[0m\u001b[0;34m,\u001b[0m\u001b[0;36m1\u001b[0m\u001b[0;34m)\u001b[0m\u001b[0;34m)\u001b[0m\u001b[0;34m\u001b[0m\u001b[0m\n\u001b[0m\u001b[1;32m      4\u001b[0m \u001b[0mprint\u001b[0m\u001b[0;34m(\u001b[0m\u001b[0mconvolve\u001b[0m\u001b[0;34m(\u001b[0m\u001b[0mdonald_matrix\u001b[0m\u001b[0;34m,\u001b[0m \u001b[0mrr\u001b[0m\u001b[0;34m)\u001b[0m\u001b[0;34m)\u001b[0m\u001b[0;34m\u001b[0m\u001b[0m\n",
      "\u001b[0;31mValueError\u001b[0m: operands could not be broadcast together with shapes (3000,2405,3) (10,10,3) "
     ]
    }
   ],
   "source": [
    "#apply the filter to the image.\n",
    "def apply_filter(image, filter):\n",
    "    "
   ]
  },
  {
   "cell_type": "code",
   "execution_count": null,
   "metadata": {},
   "outputs": [],
   "source": []
  }
 ],
 "metadata": {
  "kernelspec": {
   "display_name": "Python 3.7.0 64-bit",
   "language": "python",
   "name": "python3"
  },
  "language_info": {
   "codemirror_mode": {
    "name": "ipython",
    "version": 3
   },
   "file_extension": ".py",
   "mimetype": "text/x-python",
   "name": "python",
   "nbconvert_exporter": "python",
   "pygments_lexer": "ipython3",
   "version": "3.7.0"
  },
  "orig_nbformat": 4,
  "vscode": {
   "interpreter": {
    "hash": "e534e48711db4d1e1c48977d0d14ff85b1f16d41bcc4fdfd88268a329b3c9d66"
   }
  }
 },
 "nbformat": 4,
 "nbformat_minor": 2
}
