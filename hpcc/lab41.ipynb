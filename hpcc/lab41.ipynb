{
  "cells": [
    {
      "cell_type": "code",
      "execution_count": 1,
      "metadata": {
        "id": "9xSaMXYSjwz9"
      },
      "outputs": [],
      "source": [
        "import multiprocessing\n",
        "from multiprocessing import Process, Manager\n",
        "manager = Manager()\n",
        "from time import time"
      ]
    },
    {
      "cell_type": "code",
      "execution_count": 2,
      "metadata": {
        "colab": {
          "base_uri": "https://localhost:8080/"
        },
        "id": "Bfjcwxy2jw0D",
        "outputId": "b6552781-eac8-4127-a731-70cb02405299"
      },
      "outputs": [
        {
          "name": "stdout",
          "output_type": "stream",
          "text": [
            "['2', '1080', '&c', '10-point', '10th', '11-point', '12-point', '16-point', '18-point', '1st', '2,4,5-t', '2,4-d', '20-point', '2D', '2nd', '30-30', '3D', '3-D', '3M', '3rd', '48-point', '4-D', '4GL']\n",
            "466550\n"
          ]
        },
        {
          "data": {
            "text/plain": [
              "10000"
            ]
          },
          "execution_count": 2,
          "metadata": {},
          "output_type": "execute_result"
        }
      ],
      "source": [
        "dic1=manager.dict()\n",
        "dic2=manager.dict()\n",
        "dic3=manager.dict()\n",
        "\n",
        "f = open('words.txt', 'r')\n",
        "arr=f.readlines()\n",
        "l = [i.rstrip(\"\\n\") for i in arr]\n",
        "print(l[:23])\n",
        "print(len(l))\n",
        "l=l[:10000]\n",
        "len(l)"
      ]
    },
    {
      "cell_type": "markdown",
      "metadata": {},
      "source": [
        "### Check Similarity of two words by each character"
      ]
    },
    {
      "cell_type": "code",
      "execution_count": 3,
      "metadata": {
        "id": "YAATYYBljw0G"
      },
      "outputs": [],
      "source": [
        "def clue1(w1, w2): \n",
        "    x = [value for value in w1 if value in w2] # character wise comparison\n",
        "    return len(x) "
      ]
    },
    {
      "cell_type": "markdown",
      "metadata": {},
      "source": [
        "### Check number of vowels in word"
      ]
    },
    {
      "cell_type": "code",
      "execution_count": 4,
      "metadata": {
        "id": "laFBvmJDjw0G"
      },
      "outputs": [],
      "source": [
        "def clue2(w1): \n",
        "    w2=[\"a\",\"e\",\"i\",\"o\",\"u\"]\n",
        "    x = [value for value in w1 if value in w2] \n",
        "    return len(x)    # len(x) will contain how many vowels are contained in w1."
      ]
    },
    {
      "cell_type": "code",
      "execution_count": 5,
      "metadata": {
        "id": "I9I3qKxIjw0G",
        "scrolled": true
      },
      "outputs": [],
      "source": [
        "def c1p1(dic1, start, end=-1):\n",
        "    for i in l[start:end]:\n",
        "        temp = sum(clue1(i, j) for j in l)\n",
        "        dic1.update({i: temp})"
      ]
    },
    {
      "cell_type": "code",
      "execution_count": 6,
      "metadata": {
        "id": "OnZVA7Fhjw0H"
      },
      "outputs": [],
      "source": [
        "def c2(dic2,l):\n",
        "    for i in l:\n",
        "        temp=0\n",
        "        temp+=clue2(i)\n",
        "        dic2.update({i:temp})   # so temp will contain number of vowels contained in ith word.\n"
      ]
    },
    {
      "cell_type": "markdown",
      "metadata": {},
      "source": [
        "### Counting number of characters"
      ]
    },
    {
      "cell_type": "code",
      "execution_count": 7,
      "metadata": {
        "id": "7MfEoMZ3jw0H"
      },
      "outputs": [],
      "source": [
        "def c3(dic3, l):\n",
        "    d3 = sorted(l, key=len, reverse=True)\n",
        "    for h, i in enumerate(d3, start=1):\n",
        "        dic3.update({i: h * 0.33})\n"
      ]
    },
    {
      "cell_type": "code",
      "execution_count": 8,
      "metadata": {
        "colab": {
          "base_uri": "https://localhost:8080/"
        },
        "id": "Z4SyDOgj6enQ",
        "outputId": "b5000110-7b4f-4d26-ca4c-7e6be72e5e6a"
      },
      "outputs": [
        {
          "data": {
            "text/plain": [
              "10000"
            ]
          },
          "execution_count": 8,
          "metadata": {},
          "output_type": "execute_result"
        }
      ],
      "source": [
        "len(l)"
      ]
    },
    {
      "cell_type": "code",
      "execution_count": 23,
      "metadata": {
        "colab": {
          "base_uri": "https://localhost:8080/"
        },
        "id": "AKO7Lucx5BCG",
        "outputId": "e1d78a4b-805f-4522-a049-dd864b007cf3"
      },
      "outputs": [
        {
          "name": "stdout",
          "output_type": "stream",
          "text": [
            "117.99751782417297\n"
          ]
        }
      ],
      "source": [
        "# Serial Execution\n",
        "start = time()\n",
        "c1p1(dic1, 0, 10000)\n",
        "c2(dic2, l)\n",
        "c3(dic3, l)\n",
        "# Write your code here\n",
        "\n",
        "print(time()-start)"
      ]
    },
    {
      "cell_type": "code",
      "execution_count": 33,
      "metadata": {
        "id": "G8TmGeMqjw0H"
      },
      "outputs": [
        {
          "name": "stdout",
          "output_type": "stream",
          "text": [
            "0.00037789344787597656\n"
          ]
        }
      ],
      "source": [
        "# Parallel Execution\n",
        "\n",
        "start = time()\n",
        "v= int(len(l)/2)\n",
        "#divide each list into 4 parts and run them in parallel for each clue\n",
        "def run_parallel():\n",
        "    p1 = [Process(target=c1p1, args=(dic1, 0, v)), Process(target=c1p1, args=(dic1, v, 2*v))]\n",
        "    p1_1 = \n",
        "    for p in p1:\n",
        "        p.start()\n",
        "    for p in p1:\n",
        "        p.join()\n",
        "    p2 = [Process(target=c2,args=(dic1,l[:v])), Process(target=c2,args=(dic1,l[v:2*v])), ]\n",
        "    for k in p2:\n",
        "        k.start()\n",
        "    for k in p2:\n",
        "        k.join() \n",
        "    p3 = [Process(target=c3,args=(dic1,l[:v])), Process(target=c2,args=(dic1,l[v:2*v])),]\n",
        "    for l in p3:\n",
        "        l.start()\n",
        "    for l in p3:\n",
        "        l.join() \n",
        "\n",
        "print(time()-start)\n",
        "\n"
      ]
    },
    {
      "cell_type": "code",
      "execution_count": 27,
      "metadata": {
        "id": "3dSJT3q9jw0I"
      },
      "outputs": [],
      "source": [
        "for h, i in enumerate(dict(sorted(dic1.items(), key=lambda item: item[1], reverse = True)), start=1):  # if some function is given as key then the dictionary would be passed to lambda, and the sort would be done on the basis of the output of lambda \n",
        "     dic1[i]=0.33*h\n"
      ]
    },
    {
      "cell_type": "code",
      "execution_count": 17,
      "metadata": {
        "id": "O6QpVUC8I3uh"
      },
      "outputs": [
        {
          "name": "stdout",
          "output_type": "stream",
          "text": [
            "CPU times: user 294 ms, sys: 47.1 ms, total: 341 ms\n",
            "Wall time: 723 ms\n"
          ]
        }
      ],
      "source": []
    },
    {
      "cell_type": "code",
      "execution_count": null,
      "metadata": {},
      "outputs": [],
      "source": [
        "dic2.items()[:20]"
      ]
    },
    {
      "cell_type": "code",
      "execution_count": 29,
      "metadata": {
        "id": "UoEhc5l4lkFr"
      },
      "outputs": [],
      "source": [
        "for h, i in enumerate(dict(sorted(dic2.items(), key=lambda item: item[1], reverse = True)), start=1):\n",
        "     dic2[i]=0.33*h"
      ]
    },
    {
      "cell_type": "code",
      "execution_count": 30,
      "metadata": {
        "id": "8X7G0ZQPJFq8"
      },
      "outputs": [
        {
          "data": {
            "text/plain": [
              "[('2', 3206.94),\n",
              " ('1080', 3207.27),\n",
              " ('&c', 3207.6000000000004),\n",
              " ('10-point', 2635.38),\n",
              " ('10th', 3207.9300000000003),\n",
              " ('11-point', 2635.71),\n",
              " ('12-point', 2636.04),\n",
              " ('16-point', 2636.3700000000003),\n",
              " ('18-point', 2636.7000000000003),\n",
              " ('1st', 3208.26),\n",
              " ('2,4,5-t', 3208.59),\n",
              " ('2,4-d', 3208.92),\n",
              " ('20-point', 2637.03),\n",
              " ('2D', 3209.25),\n",
              " ('2nd', 3209.58),\n",
              " ('30-30', 3209.9100000000003),\n",
              " ('3D', 3210.2400000000002),\n",
              " ('3-D', 3210.57),\n",
              " ('3M', 3210.9),\n",
              " ('3rd', 3211.23)]"
            ]
          },
          "execution_count": 30,
          "metadata": {},
          "output_type": "execute_result"
        }
      ],
      "source": [
        "dic2.items()[:20]"
      ]
    },
    {
      "cell_type": "code",
      "execution_count": 31,
      "metadata": {
        "id": "oUG146zcjw0I"
      },
      "outputs": [
        {
          "name": "stdout",
          "output_type": "stream",
          "text": [
            "Top 10:\n",
            "['aerobacteriologically', 'aerobacteriological', 'adrenocorticosteroid', 'acetylcholinesterase', 'aceanthrenequinone', 'adenocarcinomatous', 'aerobacteriologist', 'adenochondrosarcoma', 'agammaglobulinemia', 'acetylaminobenzene']\n"
          ]
        }
      ],
      "source": [
        "finalDic={}\n",
        "for i in l:\n",
        "    temp=0\n",
        "    temp+= dic1[i]\n",
        "    temp+= dic2[i]\n",
        "    temp+= dic3[i]\n",
        "    finalDic[i] = temp\n",
        "print(\"Top 10:\")\n",
        "print(list(dict(sorted(finalDic.items(), key=lambda item: item[1])))[:10])"
      ]
    },
    {
      "cell_type": "code",
      "execution_count": null,
      "metadata": {
        "id": "kLbTrBxHjw0J"
      },
      "outputs": [],
      "source": [
        "# Analyze the parallel algorithms with different process allocations and data parallelism"
      ]
    }
  ],
  "metadata": {
    "colab": {
      "collapsed_sections": [],
      "provenance": [],
      "toc_visible": true
    },
    "kernelspec": {
      "display_name": "Python 3.7.0 64-bit",
      "language": "python",
      "name": "python3"
    },
    "language_info": {
      "codemirror_mode": {
        "name": "ipython",
        "version": 3
      },
      "file_extension": ".py",
      "mimetype": "text/x-python",
      "name": "python",
      "nbconvert_exporter": "python",
      "pygments_lexer": "ipython3",
      "version": "3.7.0"
    },
    "vscode": {
      "interpreter": {
        "hash": "e534e48711db4d1e1c48977d0d14ff85b1f16d41bcc4fdfd88268a329b3c9d66"
      }
    }
  },
  "nbformat": 4,
  "nbformat_minor": 0
}
