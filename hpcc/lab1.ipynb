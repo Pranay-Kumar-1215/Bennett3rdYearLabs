{
 "cells": [
  {
   "cell_type": "code",
   "execution_count": 1,
   "metadata": {},
   "outputs": [],
   "source": [
    "import time\n",
    "\n",
    "def task():\n",
    "    print(\"HPC is the study of High Performance\")\n",
    "    time.sleep(5)\n",
    "    print(\"Done\")"
   ]
  },
  {
   "cell_type": "code",
   "execution_count": 2,
   "metadata": {},
   "outputs": [
    {
     "name": "stdout",
     "output_type": "stream",
     "text": [
      "HPC is the study of High Performance\n",
      "Done\n",
      "HPC is the study of High Performance\n",
      "Done\n",
      "10.010940313339233\n"
     ]
    }
   ],
   "source": [
    "\n",
    "start = time.time()\n",
    "\n",
    "task()\n",
    "task()\n",
    "end = time.time()\n",
    "print(end-start)"
   ]
  },
  {
   "cell_type": "code",
   "execution_count": 5,
   "metadata": {},
   "outputs": [
    {
     "name": "stdout",
     "output_type": "stream",
     "text": [
      "HPC is the study of High Performance\n",
      "HPC is the study of High Performance\n",
      "DoneDone\n",
      "\n",
      "5.003756761550903\n"
     ]
    }
   ],
   "source": [
    "#run task 2 times in thread\n",
    "\n",
    "from threading import Thread\n",
    "\n",
    "T1 = Thread(target=task)\n",
    "T2 = Thread(target=task)\n",
    "start =    time.time()\n",
    "T1.start()\n",
    "T2.start()\n",
    "T1.join()\n",
    "T2.join()\n",
    "end = time.time()\n",
    "print(end-start)"
   ]
  },
  {
   "cell_type": "code",
   "execution_count": 11,
   "metadata": {},
   "outputs": [
    {
     "name": "stdout",
     "output_type": "stream",
     "text": [
      "1 2 3 4 5\n",
      "2 4 6 8 10\n",
      "1 4 9 16 25\n",
      "Time taken with threading:  5.0080482959747314\n",
      "1 2 3 4 5\n",
      "2 4 6 8 10\n",
      "1 4 9 16 25\n",
      "Time taken without threading:  15.014818906784058\n"
     ]
    }
   ],
   "source": [
    "from time import sleep\n",
    "\n",
    "\n",
    "class Question1:\n",
    "    def num(self):\n",
    "        print(\" \".join([str(i) for i in range(1,6)]))\n",
    "        sleep(5)\n",
    "    \n",
    "    def double(self):\n",
    "        print(\" \".join([str(i*2 )for i in range(1,6)]))\n",
    "        sleep(5)\n",
    "    \n",
    "    def square(self):\n",
    "        print(\" \".join([str(i**2) for i in range(1,6)]))\n",
    "        sleep(5)\n",
    "\n",
    "\n",
    "q1 = Question1()\n",
    "t1 = Thread(target=q1.num)\n",
    "t2 = Thread(target=q1.double)\n",
    "t3 = Thread(target=q1.square)\n",
    "start = time.time()\n",
    "t1.start()\n",
    "t2.start()\n",
    "t3.start()\n",
    "t3.join()\n",
    "t2.join()\n",
    "t3.join()\n",
    "end = time.time()\n",
    "print(\"Time taken with threading: \", end-start)\n",
    "\n",
    "start = time.time()\n",
    "q11 = Question1()\n",
    "q11.num()\n",
    "q11.double()\n",
    "q11.square()\n",
    "end = time.time()\n",
    "print(\"Time taken without threading: \", end-start)\n",
    "\n",
    "\n",
    "    "
   ]
  },
  {
   "cell_type": "code",
   "execution_count": 12,
   "metadata": {},
   "outputs": [
    {
     "name": "stdout",
     "output_type": "stream",
     "text": [
      "Collecting grep\n",
      "  Downloading grep-0.3.2.tar.gz (3.2 kB)\n",
      "  Preparing metadata (setup.py) ... \u001b[?25ldone\n",
      "\u001b[?25hBuilding wheels for collected packages: grep\n",
      "  Building wheel for grep (setup.py) ... \u001b[?25ldone\n",
      "\u001b[?25h  Created wheel for grep: filename=grep-0.3.2-py3-none-any.whl size=2929 sha256=a6916c07c5dfdb8cd468cf33cbfb0b285270e81f07a760df0755449125f278e7\n",
      "  Stored in directory: /Users/ipriyam26/Library/Caches/pip/wheels/5e/2c/f2/cf554054e111b095c82e936b0405b238ba82f019ddc6703d63\n",
      "Successfully built grep\n",
      "Installing collected packages: grep\n",
      "Successfully installed grep-0.3.2\n",
      "\n",
      "\u001b[1m[\u001b[0m\u001b[34;49mnotice\u001b[0m\u001b[1;39;49m]\u001b[0m\u001b[39;49m A new release of pip available: \u001b[0m\u001b[31;49m22.1.2\u001b[0m\u001b[39;49m -> \u001b[0m\u001b[32;49m22.2.2\u001b[0m\n",
      "\u001b[1m[\u001b[0m\u001b[34;49mnotice\u001b[0m\u001b[1;39;49m]\u001b[0m\u001b[39;49m To update, run: \u001b[0m\u001b[32;49mpip install --upgrade pip\u001b[0m\n"
     ]
    }
   ],
   "source": [
    "!pip install grep\n"
   ]
  },
  {
   "cell_type": "code",
   "execution_count": 9,
   "metadata": {},
   "outputs": [
    {
     "data": {
      "text/plain": [
       "['Sample/10.txt',\n",
       " 'Sample/11.txt',\n",
       " 'Sample/9.txt',\n",
       " 'Sample/8.txt',\n",
       " 'Sample/5.txt',\n",
       " 'Sample/4.txt',\n",
       " 'Sample/6.txt',\n",
       " 'Sample/7.txt',\n",
       " 'Sample/3.txt',\n",
       " 'Sample/2.txt',\n",
       " 'Sample/1.txt']"
      ]
     },
     "execution_count": 9,
     "metadata": {},
     "output_type": "execute_result"
    }
   ],
   "source": [
    "from glob import glob\n",
    "glob('Sample/*.txt')"
   ]
  },
  {
   "cell_type": "code",
   "execution_count": 10,
   "metadata": {},
   "outputs": [
    {
     "name": "stdout",
     "output_type": "stream",
     "text": [
      "Changed\n",
      "Changed\n",
      "Changed\n",
      "Changed\n",
      "Changed\n",
      "Changed\n",
      "Changed\n",
      "Changed\n",
      "Changed\n",
      "Changed\n",
      "Changed\n",
      "Changed\n",
      "ChangedChanged\n",
      "\n",
      "Changed\n",
      "ChangedChanged\n",
      "\n",
      "ChangedChanged\n",
      "Changed\n",
      "Changed\n",
      "\n",
      "Changed\n",
      "Time taken with threading:  0.009734869003295898\n"
     ]
    }
   ],
   "source": [
    "#Question 2\n",
    "from glob import glob\n",
    "def changeText(file):\n",
    "    with open(file, 'r') as f:\n",
    "        text = f.read()\n",
    "        text = text.replace('Now', 'Then').replace('instead','APPLE')\n",
    "    with open(file, 'w') as f:\n",
    "        f.write(text)\n",
    "    print(\"Changed\")\n",
    "\n",
    "for file in glob('Sample/*.txt'):\n",
    "    changeText(file)\n",
    "    \n",
    "threads = [Thread(target=changeText, args=(file,)) for file in glob('Sample/*.txt')]\n",
    "start = time.time()\n",
    "for thread in threads:\n",
    "    thread.start()\n",
    "for thread in threads:\n",
    "    thread.join()\n",
    "end = time.time()\n",
    "print(\"Time taken with threading: \", end-start)"
   ]
  },
  {
   "cell_type": "code",
   "execution_count": null,
   "metadata": {},
   "outputs": [],
   "source": [
    "# Question 3\n",
    "\n",
    "from random import randint, random\n",
    "\n",
    "\n",
    "holdList = [\n",
    "    randint(1,1000) for _ in range(1000)\n",
    "]\n",
    "holdList"
   ]
  },
  {
   "cell_type": "code",
   "execution_count": 19,
   "metadata": {},
   "outputs": [
    {
     "name": "stdout",
     "output_type": "stream",
     "text": [
      "104\n"
     ]
    }
   ],
   "source": [
    "def linear_search(list, item):\n",
    "    for i in range(len(list)):\n",
    "        if list[i] == item:\n",
    "            return i\n",
    "    return -1"
   ]
  },
  {
   "cell_type": "code",
   "execution_count": 22,
   "metadata": {},
   "outputs": [
    {
     "name": "stdout",
     "output_type": "stream",
     "text": [
      "[-1, 4, -1, -1, 3, -1, -1, -1, -1, -1]\n",
      "104\n",
      "Time taken with threading:  0.0028378963470458984\n"
     ]
    }
   ],
   "source": [
    "#make a linear search that divides the list in parts and searches in each part using 10 threads\n",
    "def special_search(list, item):\n",
    "    found = [-1 for _ in range(10)]\n",
    "    def linear_search(list, item, num):\n",
    "        for i in range(len(list)):\n",
    "            if list[i] == item:\n",
    "                found[num] = i\n",
    "    parts = 10\n",
    "    partSize = len(list)//parts\n",
    "    threads = [Thread(target=linear_search, args=(list[i*partSize:(i+1)*partSize], item,i,)) for i in range(parts)]\n",
    "    for thread in threads:\n",
    "        thread.start()\n",
    "    for thread in threads:\n",
    "        thread.join()\n",
    "    print(found)\n",
    "    for f in found:\n",
    "        if f != -1:\n",
    "            return f+partSize*found.index(f)\n",
    "\n",
    "start = time.time()\n",
    "print(special_search(holdList, 997))\n",
    "end = time.time()\n",
    "print(\"Time taken with threading: \", end-start)\n",
    "\n"
   ]
  },
  {
   "cell_type": "code",
   "execution_count": 4,
   "metadata": {},
   "outputs": [
    {
     "name": "stdout",
     "output_type": "stream",
     "text": [
      "Time taken to complete mult()100x100 without threading: 0.22349 seconds(s)\n"
     ]
    }
   ],
   "source": [
    "import time\n",
    "m = 100\n",
    "X = [[1]*m]*m\n",
    "Y = [[1]*m]*m\n",
    " \n",
    "def mult(X, Y):\n",
    "   result = [[0]*m]\n",
    "   for z in range(len(Y[0])):\n",
    "       for k in range(len(Y)):\n",
    "           result[0][z] += X[0] * Y[k][z]\n",
    "   # print(result)\n",
    "start = time.perf_counter()\n",
    "for i in range(len(X[0])):\n",
    "   mult(X[i], Y)\n",
    "end = time.perf_counter()\n",
    " \n",
    "print(f\"Time taken to complete mult(){m}x{m} without threading: {round(end - start, 5)} seconds(s)\")\n"
   ]
  },
  {
   "cell_type": "code",
   "execution_count": 3,
   "metadata": {},
   "outputs": [
    {
     "name": "stdout",
     "output_type": "stream",
     "text": [
      "Time taken to complete mult() 100x100: 0.24327 seconds(s)\n"
     ]
    }
   ],
   "source": [
    "import threading\n",
    "import time\n",
    " \n",
    "m = 100\n",
    "X = [[1]*m]*m\n",
    "Y = [[1]*m]*m\n",
    " \n",
    "def mult(X, Y):\n",
    "   result = [[0]*m]\n",
    "   for z in range(len(Y[0])):\n",
    "       for k in range(len(Y)):\n",
    "           result[0][z] += X[0] * Y[k][z]\n",
    "   # print(f\" {result}\")\n",
    " \n",
    "threads = []\n",
    "start = time.time()\n",
    "for i in range(len(X[0])):\n",
    "   x = threading.Thread(target = mult, args=(X[i], Y,))\n",
    "   threads.append(x)\n",
    "   x.start()\n",
    " \n",
    "for index, thread in enumerate(threads):\n",
    "   thread.join()\n",
    "end = time.time()\n",
    " \n",
    "print(f\"Time taken to complete mult() {m}x{m}: {round(end - start, 5)} seconds(s)\")\n",
    "#interestingly multithreaded is slower than single threaded"
   ]
  }
 ],
 "metadata": {
  "kernelspec": {
   "display_name": "Python 3.7.0 64-bit",
   "language": "python",
   "name": "python3"
  },
  "language_info": {
   "codemirror_mode": {
    "name": "ipython",
    "version": 3
   },
   "file_extension": ".py",
   "mimetype": "text/x-python",
   "name": "python",
   "nbconvert_exporter": "python",
   "pygments_lexer": "ipython3",
   "version": "3.7.0"
  },
  "orig_nbformat": 4,
  "vscode": {
   "interpreter": {
    "hash": "e534e48711db4d1e1c48977d0d14ff85b1f16d41bcc4fdfd88268a329b3c9d66"
   }
  }
 },
 "nbformat": 4,
 "nbformat_minor": 2
}
